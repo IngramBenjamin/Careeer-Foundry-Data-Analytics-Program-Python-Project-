{
 "cells": [
  {
   "cell_type": "markdown",
   "id": "3ab8ce0e",
   "metadata": {},
   "source": [
    "# Content List \n",
    "#### 01. Importing Libraries \n",
    "#### 02. Importing Dataframes \n",
    "#### 03. Price_lable User Defined Function\n",
    "#### 04. Loc() Function If-Statement \n",
    "#### 05. For-Loops If-Statement\n",
    "#### 06. Task"
   ]
  },
  {
   "cell_type": "markdown",
   "id": "835ecca8",
   "metadata": {},
   "source": [
    "# 01. Importing Libraries"
   ]
  },
  {
   "cell_type": "code",
   "execution_count": 1,
   "id": "d91c02c6",
   "metadata": {},
   "outputs": [],
   "source": [
    "# Import libraries\n",
    "import pandas as pd \n",
    "import numpy as np\n",
    "import os "
   ]
  },
  {
   "cell_type": "markdown",
   "id": "940633ad",
   "metadata": {},
   "source": [
    "# 02. Importing Dataframes"
   ]
  },
  {
   "cell_type": "code",
   "execution_count": 2,
   "id": "03634f11",
   "metadata": {},
   "outputs": [],
   "source": [
    "path = r\"C:\\Users\\maple\\OneDrive\\Desktop\\CareerFoundry\\Instacart Basket Analysis\""
   ]
  },
  {
   "cell_type": "code",
   "execution_count": 3,
   "id": "8505dddc",
   "metadata": {},
   "outputs": [],
   "source": [
    "df_ords_prods = pd.read_pickle(os.path.join(path,'02 Data','Prepared Data', 'orders_products_merged.pkl'))"
   ]
  },
  {
   "cell_type": "code",
   "execution_count": 4,
   "id": "b96f7933",
   "metadata": {},
   "outputs": [],
   "source": [
    "df = df_ords_prods[:1000000]"
   ]
  },
  {
   "cell_type": "markdown",
   "id": "7d39fe19",
   "metadata": {},
   "source": [
    "# 03. Price_lable User Defined Function"
   ]
  },
  {
   "cell_type": "code",
   "execution_count": 5,
   "id": "c0a3bee5",
   "metadata": {},
   "outputs": [],
   "source": [
    "# Define a function\n",
    "def price_label(row):\n",
    "\n",
    "  if row['prices'] <= 5:\n",
    "    return 'Low-range product'\n",
    "  elif (row['prices'] > 5) and (row['prices'] <= 15):\n",
    "    return 'Mid-range product'\n",
    "  elif row['prices'] > 15:\n",
    "    return 'High range'\n",
    "  else: return 'Not enough data'"
   ]
  },
  {
   "cell_type": "code",
   "execution_count": 6,
   "id": "28b3129e",
   "metadata": {},
   "outputs": [
    {
     "name": "stderr",
     "output_type": "stream",
     "text": [
      "C:\\Users\\maple\\AppData\\Local\\Temp\\ipykernel_6560\\1065531122.py:2: SettingWithCopyWarning: \n",
      "A value is trying to be set on a copy of a slice from a DataFrame.\n",
      "Try using .loc[row_indexer,col_indexer] = value instead\n",
      "\n",
      "See the caveats in the documentation: https://pandas.pydata.org/pandas-docs/stable/user_guide/indexing.html#returning-a-view-versus-a-copy\n",
      "  df['price_range'] = df.apply(price_label, axis = 1)\n"
     ]
    }
   ],
   "source": [
    "# Apply the function \n",
    "df['price_range'] = df.apply(price_label, axis = 1)"
   ]
  },
  {
   "cell_type": "code",
   "execution_count": 7,
   "id": "68a47cc5",
   "metadata": {},
   "outputs": [
    {
     "data": {
      "text/plain": [
       "Mid-range product    756450\n",
       "Low-range product    243550\n",
       "Name: price_range, dtype: int64"
      ]
     },
     "execution_count": 7,
     "metadata": {},
     "output_type": "execute_result"
    }
   ],
   "source": [
    "# Checking value counts of new price_range column\n",
    "df['price_range'].value_counts()"
   ]
  },
  {
   "cell_type": "code",
   "execution_count": 8,
   "id": "8967af1e",
   "metadata": {},
   "outputs": [
    {
     "data": {
      "text/plain": [
       "14.8"
      ]
     },
     "execution_count": 8,
     "metadata": {},
     "output_type": "execute_result"
    }
   ],
   "source": [
    "# Checking max price in dataframe\n",
    "df['prices'].max()"
   ]
  },
  {
   "cell_type": "markdown",
   "id": "d594e487",
   "metadata": {},
   "source": [
    "# 04. Loc() Function If-Statement"
   ]
  },
  {
   "cell_type": "code",
   "execution_count": 10,
   "id": "3f63a7b4",
   "metadata": {},
   "outputs": [],
   "source": [
    "# Setting high range prouduct if statement on df subset \n",
    "df.loc[df['prices'] > 15, 'price_range_loc'] = 'High range product'"
   ]
  },
  {
   "cell_type": "code",
   "execution_count": 11,
   "id": "490f732c",
   "metadata": {},
   "outputs": [],
   "source": [
    "# Setting mid range prouduct if statement on df subset \n",
    "df.loc[(df['prices'] <= 15) & (df['prices'] > 5), 'price_range_loc'] = 'Mid range product'"
   ]
  },
  {
   "cell_type": "code",
   "execution_count": 14,
   "id": "716270b1",
   "metadata": {},
   "outputs": [],
   "source": [
    "# Setting low range prouduct if statement on df subset \n",
    "df.loc[df['prices'] <= 5, 'price_range_loc'] = 'Low range product'"
   ]
  },
  {
   "cell_type": "code",
   "execution_count": 15,
   "id": "657e8fb9",
   "metadata": {},
   "outputs": [
    {
     "data": {
      "text/plain": [
       "Mid range product    756450\n",
       "Low range product    243550\n",
       "Name: price_range_loc, dtype: int64"
      ]
     },
     "execution_count": 15,
     "metadata": {},
     "output_type": "execute_result"
    }
   ],
   "source": [
    "# Checking value counts of new price_range_loc column on df subset \n",
    "df['price_range_loc'].value_counts(dropna = False)"
   ]
  },
  {
   "cell_type": "code",
   "execution_count": 20,
   "id": "631a7a7d",
   "metadata": {},
   "outputs": [],
   "source": [
    "# Setting high range prouduct if statement on full df_ords_prods dataframe\n",
    "df_ords_prods.loc[df_ords_prods['prices'] > 15, 'price_range_loc'] = 'High range product'"
   ]
  },
  {
   "cell_type": "code",
   "execution_count": 24,
   "id": "59625cbc",
   "metadata": {},
   "outputs": [],
   "source": [
    "# Setting mid range prouduct if statement on full df_ords_prods dataframe\n",
    "df_ords_prods.loc[(df_ords_prods['prices'] <= 15) & (df_ords_prods['prices'] > 5), 'price_range_loc'] = 'Mid range product'"
   ]
  },
  {
   "cell_type": "code",
   "execution_count": 22,
   "id": "2368668d",
   "metadata": {},
   "outputs": [],
   "source": [
    "# Setting low range prouduct if statement on full df_ords_prods dataframe\n",
    "df_ords_prods.loc[df_ords_prods['prices'] <= 5, 'price_range_loc'] = 'Low range product'"
   ]
  },
  {
   "cell_type": "code",
   "execution_count": 26,
   "id": "637fd688",
   "metadata": {},
   "outputs": [
    {
     "data": {
      "text/plain": [
       "Mid range product     21860860\n",
       "Low range product     10126321\n",
       "High range product      417678\n",
       "Name: price_range_loc, dtype: int64"
      ]
     },
     "execution_count": 26,
     "metadata": {},
     "output_type": "execute_result"
    }
   ],
   "source": [
    "# Checking value counts of new price_range_loc column on full df_ords_prods dataframe  \n",
    "df_ords_prods['price_range_loc'].value_counts(dropna = False)"
   ]
  },
  {
   "cell_type": "markdown",
   "id": "fde89d64",
   "metadata": {},
   "source": [
    "# 05. For-Loops If-Statement"
   ]
  },
  {
   "cell_type": "code",
   "execution_count": 36,
   "id": "1c41e103",
   "metadata": {},
   "outputs": [
    {
     "data": {
      "text/plain": [
       "0    6204182\n",
       "1    5660230\n",
       "6    4496490\n",
       "2    4213830\n",
       "5    4205791\n",
       "3    3840534\n",
       "4    3783802\n",
       "Name: orders_day_of_week, dtype: int64"
      ]
     },
     "execution_count": 36,
     "metadata": {},
     "output_type": "execute_result"
    }
   ],
   "source": [
    "# Checking the frequency of orders_day_of_the_week to determine busiest days \n",
    "df_ords_prods['orders_day_of_week'].value_counts(dropna = False)"
   ]
  },
  {
   "cell_type": "code",
   "execution_count": 44,
   "id": "0561c8cc",
   "metadata": {},
   "outputs": [],
   "source": [
    "# Creating the For Loop\n",
    "result = []\n",
    "\n",
    "for value in df_ords_prods['orders_day_of_week']:\n",
    "    if value == 0:\n",
    "        result.append('Busiest day')\n",
    "    elif value == 4:\n",
    "        result.append('Least busy')\n",
    "    else:\n",
    "        result.append('Regularly busy')\n",
    "            "
   ]
  },
  {
   "cell_type": "code",
   "execution_count": 38,
   "id": "b6556838",
   "metadata": {},
   "outputs": [],
   "source": [
    "# Adding Result list as column in df_ords_prods dataframe \n",
    "df_ords_prods['busiest_day'] = result "
   ]
  },
  {
   "cell_type": "code",
   "execution_count": 39,
   "id": "1c7079d0",
   "metadata": {},
   "outputs": [
    {
     "data": {
      "text/plain": [
       "Regularly busy    22416875\n",
       "Busiest day        6204182\n",
       "Least busy         3783802\n",
       "Name: busiest_day, dtype: int64"
      ]
     },
     "execution_count": 39,
     "metadata": {},
     "output_type": "execute_result"
    }
   ],
   "source": [
    "# Checking value counts of new busiest_day column to compare with orders_day_of_week frequency\n",
    "df_ords_prods['busiest_day'].value_counts(dropna = False)"
   ]
  },
  {
   "cell_type": "markdown",
   "id": "f1b568cc",
   "metadata": {},
   "source": [
    "# 06. Task "
   ]
  },
  {
   "cell_type": "code",
   "execution_count": 41,
   "id": "cdb7a3d8",
   "metadata": {},
   "outputs": [],
   "source": [
    "#renaming price_range_loc column to price_label \n",
    "df_ords_prods = df_ords_prods.rename(columns = {'price_range_loc' : 'price_label'})"
   ]
  },
  {
   "cell_type": "code",
   "execution_count": 45,
   "id": "3788ee72",
   "metadata": {},
   "outputs": [],
   "source": [
    "#Suppose your clients have changed their minds about the labels you created in your “busiest_day” column. Now, they want “Busiest day” to become “Busiest days” (plural). This label should correspond with the two busiest days of the week as opposed to the single busiest day. At the same time, they’d also like to know the two slowest days. Create a new column for this using a suitable method.\n",
    "result2 = []\n",
    "\n",
    "for value in df_ords_prods['orders_day_of_week']:\n",
    "    if value in [0,1]:\n",
    "        result2.append('Busiest days')\n",
    "    elif value in [4,3]:\n",
    "        result2.append('Least busiest days')\n",
    "    else:\n",
    "        result2.append('Regularly busy')"
   ]
  },
  {
   "cell_type": "code",
   "execution_count": 46,
   "id": "1f2c22dc",
   "metadata": {},
   "outputs": [],
   "source": [
    "# Creating new busiest_days column\n",
    "df_ords_prods['busiest_days'] = result2"
   ]
  },
  {
   "cell_type": "code",
   "execution_count": 48,
   "id": "61118969",
   "metadata": {},
   "outputs": [
    {
     "data": {
      "text/plain": [
       "Regularly busy        12916111\n",
       "Busiest days          11864412\n",
       "Least busiest days     7624336\n",
       "Name: busiest_days, dtype: int64"
      ]
     },
     "execution_count": 48,
     "metadata": {},
     "output_type": "execute_result"
    }
   ],
   "source": [
    "# Checking value counts of new busiest_days column to compare with orders_day_of_week frequency\n",
    "df_ords_prods['busiest_days'].value_counts(dropna = False)"
   ]
  },
  {
   "cell_type": "markdown",
   "id": "d078ee6a",
   "metadata": {},
   "source": [
    "#### In checking the values for the busiest_days column I confirmed that the label \"least busiest days\" is the sum of days 3 and 4, while the label \"busiest days\" is the sum of days 0 and 1. \"Regularly busy\" is the sum of all other days. "
   ]
  },
  {
   "cell_type": "code",
   "execution_count": 49,
   "id": "1061a2c1",
   "metadata": {},
   "outputs": [],
   "source": [
    "#Removing the original busiest_day column\n",
    "df_ords_prods = df_ords_prods.drop(columns=['busiest_day'])"
   ]
  },
  {
   "cell_type": "code",
   "execution_count": 50,
   "id": "850e45e9",
   "metadata": {},
   "outputs": [
    {
     "data": {
      "text/html": [
       "<div>\n",
       "<style scoped>\n",
       "    .dataframe tbody tr th:only-of-type {\n",
       "        vertical-align: middle;\n",
       "    }\n",
       "\n",
       "    .dataframe tbody tr th {\n",
       "        vertical-align: top;\n",
       "    }\n",
       "\n",
       "    .dataframe thead th {\n",
       "        text-align: right;\n",
       "    }\n",
       "</style>\n",
       "<table border=\"1\" class=\"dataframe\">\n",
       "  <thead>\n",
       "    <tr style=\"text-align: right;\">\n",
       "      <th></th>\n",
       "      <th>order_id</th>\n",
       "      <th>user_id</th>\n",
       "      <th>number_of_orders_placed</th>\n",
       "      <th>orders_day_of_week</th>\n",
       "      <th>order_hour_of_day</th>\n",
       "      <th>days_since_prior_order</th>\n",
       "      <th>no_prior_orders</th>\n",
       "      <th>product_id</th>\n",
       "      <th>add_to_cart_order</th>\n",
       "      <th>reordered</th>\n",
       "      <th>product_name</th>\n",
       "      <th>aisle_id</th>\n",
       "      <th>department_id</th>\n",
       "      <th>prices</th>\n",
       "      <th>exists</th>\n",
       "      <th>price_label</th>\n",
       "      <th>busiest_days</th>\n",
       "    </tr>\n",
       "  </thead>\n",
       "  <tbody>\n",
       "    <tr>\n",
       "      <th>0</th>\n",
       "      <td>2539329</td>\n",
       "      <td>1</td>\n",
       "      <td>1</td>\n",
       "      <td>2</td>\n",
       "      <td>8</td>\n",
       "      <td>NaN</td>\n",
       "      <td>True</td>\n",
       "      <td>196</td>\n",
       "      <td>1</td>\n",
       "      <td>0</td>\n",
       "      <td>Soda</td>\n",
       "      <td>77</td>\n",
       "      <td>7</td>\n",
       "      <td>9.0</td>\n",
       "      <td>both</td>\n",
       "      <td>Mid range product</td>\n",
       "      <td>Regularly busy</td>\n",
       "    </tr>\n",
       "    <tr>\n",
       "      <th>1</th>\n",
       "      <td>2398795</td>\n",
       "      <td>1</td>\n",
       "      <td>2</td>\n",
       "      <td>3</td>\n",
       "      <td>7</td>\n",
       "      <td>15.0</td>\n",
       "      <td>False</td>\n",
       "      <td>196</td>\n",
       "      <td>1</td>\n",
       "      <td>1</td>\n",
       "      <td>Soda</td>\n",
       "      <td>77</td>\n",
       "      <td>7</td>\n",
       "      <td>9.0</td>\n",
       "      <td>both</td>\n",
       "      <td>Mid range product</td>\n",
       "      <td>Least busiest days</td>\n",
       "    </tr>\n",
       "    <tr>\n",
       "      <th>2</th>\n",
       "      <td>473747</td>\n",
       "      <td>1</td>\n",
       "      <td>3</td>\n",
       "      <td>3</td>\n",
       "      <td>12</td>\n",
       "      <td>21.0</td>\n",
       "      <td>False</td>\n",
       "      <td>196</td>\n",
       "      <td>1</td>\n",
       "      <td>1</td>\n",
       "      <td>Soda</td>\n",
       "      <td>77</td>\n",
       "      <td>7</td>\n",
       "      <td>9.0</td>\n",
       "      <td>both</td>\n",
       "      <td>Mid range product</td>\n",
       "      <td>Least busiest days</td>\n",
       "    </tr>\n",
       "    <tr>\n",
       "      <th>3</th>\n",
       "      <td>2254736</td>\n",
       "      <td>1</td>\n",
       "      <td>4</td>\n",
       "      <td>4</td>\n",
       "      <td>7</td>\n",
       "      <td>29.0</td>\n",
       "      <td>False</td>\n",
       "      <td>196</td>\n",
       "      <td>1</td>\n",
       "      <td>1</td>\n",
       "      <td>Soda</td>\n",
       "      <td>77</td>\n",
       "      <td>7</td>\n",
       "      <td>9.0</td>\n",
       "      <td>both</td>\n",
       "      <td>Mid range product</td>\n",
       "      <td>Least busiest days</td>\n",
       "    </tr>\n",
       "    <tr>\n",
       "      <th>4</th>\n",
       "      <td>431534</td>\n",
       "      <td>1</td>\n",
       "      <td>5</td>\n",
       "      <td>4</td>\n",
       "      <td>15</td>\n",
       "      <td>28.0</td>\n",
       "      <td>False</td>\n",
       "      <td>196</td>\n",
       "      <td>1</td>\n",
       "      <td>1</td>\n",
       "      <td>Soda</td>\n",
       "      <td>77</td>\n",
       "      <td>7</td>\n",
       "      <td>9.0</td>\n",
       "      <td>both</td>\n",
       "      <td>Mid range product</td>\n",
       "      <td>Least busiest days</td>\n",
       "    </tr>\n",
       "  </tbody>\n",
       "</table>\n",
       "</div>"
      ],
      "text/plain": [
       "   order_id  user_id  number_of_orders_placed  orders_day_of_week  \\\n",
       "0   2539329        1                        1                   2   \n",
       "1   2398795        1                        2                   3   \n",
       "2    473747        1                        3                   3   \n",
       "3   2254736        1                        4                   4   \n",
       "4    431534        1                        5                   4   \n",
       "\n",
       "   order_hour_of_day  days_since_prior_order no_prior_orders  product_id  \\\n",
       "0                  8                     NaN            True         196   \n",
       "1                  7                    15.0           False         196   \n",
       "2                 12                    21.0           False         196   \n",
       "3                  7                    29.0           False         196   \n",
       "4                 15                    28.0           False         196   \n",
       "\n",
       "   add_to_cart_order  reordered product_name  aisle_id  department_id  prices  \\\n",
       "0                  1          0         Soda        77              7     9.0   \n",
       "1                  1          1         Soda        77              7     9.0   \n",
       "2                  1          1         Soda        77              7     9.0   \n",
       "3                  1          1         Soda        77              7     9.0   \n",
       "4                  1          1         Soda        77              7     9.0   \n",
       "\n",
       "  exists        price_label        busiest_days  \n",
       "0   both  Mid range product      Regularly busy  \n",
       "1   both  Mid range product  Least busiest days  \n",
       "2   both  Mid range product  Least busiest days  \n",
       "3   both  Mid range product  Least busiest days  \n",
       "4   both  Mid range product  Least busiest days  "
      ]
     },
     "execution_count": 50,
     "metadata": {},
     "output_type": "execute_result"
    }
   ],
   "source": [
    "df_ords_prods.head()"
   ]
  },
  {
   "cell_type": "code",
   "execution_count": 51,
   "id": "67664047",
   "metadata": {},
   "outputs": [
    {
     "data": {
      "text/plain": [
       "10    2761760\n",
       "11    2736140\n",
       "14    2689136\n",
       "15    2662144\n",
       "13    2660954\n",
       "12    2618532\n",
       "16    2535202\n",
       "9     2454203\n",
       "17    2087654\n",
       "8     1718118\n",
       "18    1636502\n",
       "19    1258305\n",
       "20     976156\n",
       "7      891054\n",
       "21     795637\n",
       "22     634225\n",
       "23     402316\n",
       "6      290493\n",
       "0      218769\n",
       "1      115700\n",
       "5       87961\n",
       "2       69375\n",
       "4       53242\n",
       "3       51281\n",
       "Name: order_hour_of_day, dtype: int64"
      ]
     },
     "execution_count": 51,
     "metadata": {},
     "output_type": "execute_result"
    }
   ],
   "source": [
    "#When too many users make Instacart orders at the same time, the app freezes. The senior technical officer at Instacart wants you to identify the busiest hours of the day. Rather than by hour, they want periods of time labeled “Most orders,” “Average orders,” and “Fewest orders.” Create a new column containing these labels called “busiest_period_of_day.”\n",
    "df_ords_prods['order_hour_of_day'].value_counts(dropna = False)"
   ]
  },
  {
   "cell_type": "code",
   "execution_count": 52,
   "id": "0cf4c165",
   "metadata": {},
   "outputs": [],
   "source": [
    "result3 = []\n",
    "\n",
    "for value in df_ords_prods['order_hour_of_day']:\n",
    "    if value in [10, 11, 14, 15, 13, 12, 16, 9]:\n",
    "        result3.append('Most orders')\n",
    "    elif value in [3, 4, 2, 5, 1]:\n",
    "        result3.append('Fewest orders')\n",
    "    else:\n",
    "        result3.append('Average orders')"
   ]
  },
  {
   "cell_type": "code",
   "execution_count": 53,
   "id": "7420e748",
   "metadata": {},
   "outputs": [],
   "source": [
    "# Creating a new busiest_hours column \n",
    "df_ords_prods['busiest_hours'] = result3"
   ]
  },
  {
   "cell_type": "code",
   "execution_count": 55,
   "id": "ab74b39c",
   "metadata": {},
   "outputs": [
    {
     "data": {
      "text/plain": [
       "Most orders       21118071\n",
       "Average orders    10909229\n",
       "Fewest orders       377559\n",
       "Name: busiest_hours, dtype: int64"
      ]
     },
     "execution_count": 55,
     "metadata": {},
     "output_type": "execute_result"
    }
   ],
   "source": [
    "#Print the frequency for this new column.\n",
    "df_ords_prods['busiest_hours'].value_counts(dropna = False)"
   ]
  },
  {
   "cell_type": "code",
   "execution_count": 57,
   "id": "2bd9adef",
   "metadata": {},
   "outputs": [],
   "source": [
    "#Export your dataframe as a pickle file (since you added new columns) and store it correctly in your “Prepared Data” folder.\n",
    "df_ords_prods.to_pickle(os.path.join(path, '02 Data','Prepared Data', 'orders_products_busiest_hours_days.pkl'))"
   ]
  }
 ],
 "metadata": {
  "kernelspec": {
   "display_name": "Python 3 (ipykernel)",
   "language": "python",
   "name": "python3"
  },
  "language_info": {
   "codemirror_mode": {
    "name": "ipython",
    "version": 3
   },
   "file_extension": ".py",
   "mimetype": "text/x-python",
   "name": "python",
   "nbconvert_exporter": "python",
   "pygments_lexer": "ipython3",
   "version": "3.9.12"
  }
 },
 "nbformat": 4,
 "nbformat_minor": 5
}
