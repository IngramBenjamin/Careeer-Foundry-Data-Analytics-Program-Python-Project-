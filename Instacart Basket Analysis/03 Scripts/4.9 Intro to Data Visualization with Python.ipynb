{
 "cells": [
  {
   "cell_type": "markdown",
   "id": "8c489f48",
   "metadata": {},
   "source": [
    "# Content List \n",
    "#### 01. Import Data and Libraries \n",
    "#### 02. Creating Bar Charts \n",
    "#### 03. Creating Histograms and Scatterplots \n",
    "#### 04. Creating Line Charts \n"
   ]
  },
  {
   "cell_type": "markdown",
   "id": "4965a272",
   "metadata": {},
   "source": [
    "# 01. Import Data and Libraries"
   ]
  },
  {
   "cell_type": "code",
   "execution_count": 1,
   "id": "e77c9001",
   "metadata": {},
   "outputs": [],
   "source": [
    "# Importing libraries \n",
    "import pandas as pd\n",
    "import numpy as np\n",
    "import os\n",
    "import matplotlib.pyplot as plt\n",
    "import seaborn as sns\n",
    "import scipy"
   ]
  },
  {
   "cell_type": "code",
   "execution_count": 2,
   "id": "4e575f45",
   "metadata": {},
   "outputs": [],
   "source": [
    "# Importing orders and products dataframe \n",
    "\n",
    "path = r\"C:\\Users\\maple\\OneDrive\\Desktop\\CareerFoundry\\Instacart Basket Analysis\"\n",
    "ords_prods = pd.read_pickle(os.path.join(path,'02 Data','Prepared Data', 'orders_products_aggregates.pkl'))"
   ]
  },
  {
   "cell_type": "markdown",
   "id": "98770319",
   "metadata": {},
   "source": [
    "# 02. Creating Bar Charts "
   ]
  },
  {
   "cell_type": "code",
   "execution_count": 10,
   "id": "e6ba32be",
   "metadata": {},
   "outputs": [
    {
     "data": {
      "image/png": "[encoded data removed]",
      "text/plain": [
       "<Figure size 432x288 with 1 Axes>"
      ]
     },
     "metadata": {
      "needs_background": "light"
     },
     "output_type": "display_data"
    }
   ],
   "source": [
    "# Creating bar chart of orders_days_of_week \n",
    "\n",
    "bar = ords_prods['orders_day_of_week'].value_counts().sort_index().plot.bar()"
   ]
  },
  {
   "cell_type": "code",
   "execution_count": 10,
   "id": "05cf1b39",
   "metadata": {},
   "outputs": [],
   "source": [
    "# Exporting bar chart \n",
    "bar.figure.savefig(os.path.join(path, '04 Analysis', 'Visualizations', 'bar_orders_dow.png'))"
   ]
  },
  {
   "cell_type": "markdown",
   "id": "f923fb42",
   "metadata": {},
   "source": [
    "# 03. Creating Histograms and Scatterplots "
   ]
  },
  {
   "cell_type": "code",
   "execution_count": 11,
   "id": "7e1fbd6b",
   "metadata": {},
   "outputs": [
    {
     "data": {
      "text/plain": [
       "<AxesSubplot:ylabel='Frequency'>"
      ]
     },
     "execution_count": 11,
     "metadata": {},
     "output_type": "execute_result"
    },
    {
     "data": {
      "image/png": "[encoded data removed]",
      "text/plain": [
       "<Figure size 432x288 with 1 Axes>"
      ]
     },
     "metadata": {
      "needs_background": "light"
     },
     "output_type": "display_data"
    }
   ],
   "source": [
    "# Creating histogram of prices\n",
    "\n",
    "ords_prods['prices'].plot.hist(bins = 70)"
   ]
  },
  {
   "cell_type": "code",
   "execution_count": 29,
   "id": "ab6be64e",
   "metadata": {},
   "outputs": [
    {
     "data": {
      "text/plain": [
       "<AxesSubplot:xlabel='prices', ylabel='prices'>"
      ]
     },
     "execution_count": 29,
     "metadata": {},
     "output_type": "execute_result"
    },
    {
     "data": {
      "image/png": "[encoded data removed]",
      "text/plain": [
       "<Figure size 432x288 with 1 Axes>"
      ]
     },
     "metadata": {
      "needs_background": "light"
     },
     "output_type": "display_data"
    }
   ],
   "source": [
    "# Creating scatterplot of prices\n",
    "\n",
    "sns.scatterplot(x = 'prices', y = 'prices', data = ords_prods)"
   ]
  },
  {
   "cell_type": "code",
   "execution_count": 12,
   "id": "4dffcc3a",
   "metadata": {},
   "outputs": [
    {
     "data": {
      "text/html": [
       "<div>\n",
       "<style scoped>\n",
       "    .dataframe tbody tr th:only-of-type {\n",
       "        vertical-align: middle;\n",
       "    }\n",
       "\n",
       "    .dataframe tbody tr th {\n",
       "        vertical-align: top;\n",
       "    }\n",
       "\n",
       "    .dataframe thead th {\n",
       "        text-align: right;\n",
       "    }\n",
       "</style>\n",
       "<table border=\"1\" class=\"dataframe\">\n",
       "  <thead>\n",
       "    <tr style=\"text-align: right;\">\n",
       "      <th></th>\n",
       "      <th>order_id</th>\n",
       "      <th>user_id</th>\n",
       "      <th>number_of_orders_placed</th>\n",
       "      <th>orders_day_of_week</th>\n",
       "      <th>order_hour_of_day</th>\n",
       "      <th>days_since_prior_order</th>\n",
       "      <th>no_prior_orders</th>\n",
       "      <th>product_id</th>\n",
       "      <th>add_to_cart_order</th>\n",
       "      <th>reordered</th>\n",
       "      <th>...</th>\n",
       "      <th>exists</th>\n",
       "      <th>price_label</th>\n",
       "      <th>busiest_days</th>\n",
       "      <th>busiest_hours</th>\n",
       "      <th>max_order</th>\n",
       "      <th>loyalty_flag</th>\n",
       "      <th>avg_price</th>\n",
       "      <th>spender_flag</th>\n",
       "      <th>med_frequency</th>\n",
       "      <th>frequency_flag</th>\n",
       "    </tr>\n",
       "  </thead>\n",
       "  <tbody>\n",
       "  </tbody>\n",
       "</table>\n",
       "<p>0 rows × 24 columns</p>\n",
       "</div>"
      ],
      "text/plain": [
       "Empty DataFrame\n",
       "Columns: [order_id, user_id, number_of_orders_placed, orders_day_of_week, order_hour_of_day, days_since_prior_order, no_prior_orders, product_id, add_to_cart_order, reordered, product_name, aisle_id, department_id, prices, exists, price_label, busiest_days, busiest_hours, max_order, loyalty_flag, avg_price, spender_flag, med_frequency, frequency_flag]\n",
       "Index: []\n",
       "\n",
       "[0 rows x 24 columns]"
      ]
     },
     "execution_count": 12,
     "metadata": {},
     "output_type": "execute_result"
    }
   ],
   "source": [
    "# Checking for outliers in price\n",
    "\n",
    "ords_prods.loc[ords_prods['prices'] > 100]"
   ]
  },
  {
   "cell_type": "code",
   "execution_count": 23,
   "id": "2984551b",
   "metadata": {},
   "outputs": [],
   "source": [
    "# Replacing price outliers with missing values \n",
    "\n",
    "ords_prods.loc[ords_prods['prices'] >100, 'prices'] = np.nan"
   ]
  },
  {
   "cell_type": "code",
   "execution_count": 13,
   "id": "b751a7ee",
   "metadata": {},
   "outputs": [
    {
     "data": {
      "text/plain": [
       "25.0"
      ]
     },
     "execution_count": 13,
     "metadata": {},
     "output_type": "execute_result"
    }
   ],
   "source": [
    "ords_prods['prices'].max()"
   ]
  },
  {
   "cell_type": "markdown",
   "id": "9e68de68",
   "metadata": {},
   "source": [
    "# 04. Creating Line Charts"
   ]
  },
  {
   "cell_type": "code",
   "execution_count": 3,
   "id": "eaeef4ee",
   "metadata": {},
   "outputs": [],
   "source": [
    "# Create a list holding True/False values to the test np.random.rant() <= .7\n",
    "np.random.seed(4)\n",
    "dev = np.random.rand(len(ords_prods)) <= 0.7"
   ]
  },
  {
   "cell_type": "code",
   "execution_count": 5,
   "id": "b5e3d2b1",
   "metadata": {},
   "outputs": [],
   "source": [
    "# Store 70% of the sample in the dataframe big\n",
    "\n",
    "big = ords_prods[dev]"
   ]
  },
  {
   "cell_type": "code",
   "execution_count": 4,
   "id": "3b29919c",
   "metadata": {},
   "outputs": [],
   "source": [
    "# Store 30% of the sample in the dataframe small\n",
    "\n",
    "small = ords_prods[~dev]"
   ]
  },
  {
   "cell_type": "code",
   "execution_count": 6,
   "id": "e64c381e",
   "metadata": {},
   "outputs": [
    {
     "data": {
      "text/plain": [
       "32404859"
      ]
     },
     "execution_count": 6,
     "metadata": {},
     "output_type": "execute_result"
    }
   ],
   "source": [
    "len(ords_prods)"
   ]
  },
  {
   "cell_type": "code",
   "execution_count": 7,
   "id": "9a8a4d3a",
   "metadata": {},
   "outputs": [
    {
     "data": {
      "text/plain": [
       "32404859"
      ]
     },
     "execution_count": 7,
     "metadata": {},
     "output_type": "execute_result"
    }
   ],
   "source": [
    "len(big) + len(small)"
   ]
  },
  {
   "cell_type": "code",
   "execution_count": 14,
   "id": "7b9f598b",
   "metadata": {},
   "outputs": [],
   "source": [
    "# Creating subset of data needed for line chart\n",
    "\n",
    "df_2 = small[['orders_day_of_week','prices']]"
   ]
  },
  {
   "cell_type": "code",
   "execution_count": 15,
   "id": "27a15b23",
   "metadata": {},
   "outputs": [
    {
     "data": {
      "image/png": "[encoded data removed]",
      "text/plain": [
       "<Figure size 432x288 with 1 Axes>"
      ]
     },
     "metadata": {
      "needs_background": "light"
     },
     "output_type": "display_data"
    }
   ],
   "source": [
    "line = sns.lineplot(data = df_2, x = 'orders_day_of_week',y = 'prices')"
   ]
  }
 ],
 "metadata": {
  "kernelspec": {
   "display_name": "Python 3 (ipykernel)",
   "language": "python",
   "name": "python3"
  },
  "language_info": {
   "codemirror_mode": {
    "name": "ipython",
    "version": 3
   },
   "file_extension": ".py",
   "mimetype": "text/x-python",
   "name": "python",
   "nbconvert_exporter": "python",
   "pygments_lexer": "ipython3",
   "version": "3.9.12"
  }
 },
 "nbformat": 4,
 "nbformat_minor": 5
}
