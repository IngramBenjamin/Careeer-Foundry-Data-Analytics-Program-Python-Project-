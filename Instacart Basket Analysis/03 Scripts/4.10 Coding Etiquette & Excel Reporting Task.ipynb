{
 "cells": [
  {
   "cell_type": "markdown",
   "id": "4bc7fcd2",
   "metadata": {},
   "source": [
    "# Content List \n",
    "#### 01. Import Libraries and Data\n",
    "#### 02. Consider PII & Security Implications \n",
    "#### 03. Customer Behavior by Geography \n",
    "#### 04. Excluding Low-Activity Customers\n",
    "#### 05. Customer Profiles\n",
    "#### 06. Profile Distribution Visual\n",
    "#### 07. Data Aggregates\n",
    "#### 08. Profile, Region, Department Comparison\n",
    "#### 09. Comparison Charts\n",
    "#### 10. Key Questions"
   ]
  },
  {
   "cell_type": "markdown",
   "id": "51333ccc",
   "metadata": {},
   "source": [
    "# 01. Import Libraries and Data"
   ]
  },
  {
   "cell_type": "code",
   "execution_count": 1,
   "id": "e1d46873",
   "metadata": {},
   "outputs": [],
   "source": [
    "# Importing libraries \n",
    "import pandas as pd\n",
    "import numpy as np\n",
    "import os\n",
    "import matplotlib.pyplot as plt\n",
    "import seaborn as sns\n",
    "import scipy"
   ]
  },
  {
   "cell_type": "code",
   "execution_count": 2,
   "id": "a6865f6e",
   "metadata": {},
   "outputs": [],
   "source": [
    "# Importing orders, products, and customers merged dataframes \n",
    "\n",
    "path = r'C:\\Users\\maple\\OneDrive\\Desktop\\CareerFoundry\\Instacart Basket Analysis'\n",
    "ords_prods_custs = pd.read_pickle(os.path.join(path,'02 Data','Prepared Data', 'orders_products_customers_merged.pkl'))"
   ]
  },
  {
   "cell_type": "markdown",
   "id": "75d8f256",
   "metadata": {},
   "source": [
    "# 02. Consider PII & Security Implications "
   ]
  },
  {
   "cell_type": "code",
   "execution_count": 3,
   "id": "ed8801a9",
   "metadata": {},
   "outputs": [
    {
     "data": {
      "text/html": [
       "<div>\n",
       "<style scoped>\n",
       "    .dataframe tbody tr th:only-of-type {\n",
       "        vertical-align: middle;\n",
       "    }\n",
       "\n",
       "    .dataframe tbody tr th {\n",
       "        vertical-align: top;\n",
       "    }\n",
       "\n",
       "    .dataframe thead th {\n",
       "        text-align: right;\n",
       "    }\n",
       "</style>\n",
       "<table border=\"1\" class=\"dataframe\">\n",
       "  <thead>\n",
       "    <tr style=\"text-align: right;\">\n",
       "      <th></th>\n",
       "      <th>order_id</th>\n",
       "      <th>user_id</th>\n",
       "      <th>number_of_orders_placed</th>\n",
       "      <th>orders_day_of_week</th>\n",
       "      <th>order_hour_of_day</th>\n",
       "      <th>days_since_prior_order</th>\n",
       "      <th>no_prior_orders</th>\n",
       "      <th>product_id</th>\n",
       "      <th>add_to_cart_order</th>\n",
       "      <th>reordered</th>\n",
       "      <th>product_name</th>\n",
       "      <th>aisle_id</th>\n",
       "      <th>department_id</th>\n",
       "      <th>prices</th>\n",
       "      <th>exists</th>\n",
       "      <th>price_label</th>\n",
       "      <th>busiest_days</th>\n",
       "      <th>busiest_hours</th>\n",
       "      <th>max_order</th>\n",
       "      <th>loyalty_flag</th>\n",
       "      <th>avg_price</th>\n",
       "      <th>spender_flag</th>\n",
       "      <th>med_frequency</th>\n",
       "      <th>frequency_flag</th>\n",
       "      <th>gender</th>\n",
       "      <th>state</th>\n",
       "      <th>age</th>\n",
       "      <th>date_joined</th>\n",
       "      <th>number_of_dependents</th>\n",
       "      <th>marital_status</th>\n",
       "      <th>income</th>\n",
       "    </tr>\n",
       "  </thead>\n",
       "  <tbody>\n",
       "    <tr>\n",
       "      <th>0</th>\n",
       "      <td>2539329</td>\n",
       "      <td>1</td>\n",
       "      <td>1</td>\n",
       "      <td>2</td>\n",
       "      <td>8</td>\n",
       "      <td>NaN</td>\n",
       "      <td>True</td>\n",
       "      <td>196</td>\n",
       "      <td>1</td>\n",
       "      <td>0</td>\n",
       "      <td>Soda</td>\n",
       "      <td>77</td>\n",
       "      <td>7</td>\n",
       "      <td>9.0</td>\n",
       "      <td>both</td>\n",
       "      <td>Mid range product</td>\n",
       "      <td>Regularly busy</td>\n",
       "      <td>Average orders</td>\n",
       "      <td>10</td>\n",
       "      <td>New customer</td>\n",
       "      <td>6.367797</td>\n",
       "      <td>Low spender</td>\n",
       "      <td>20.5</td>\n",
       "      <td>Non-frequent customer</td>\n",
       "      <td>Female</td>\n",
       "      <td>Alabama</td>\n",
       "      <td>31</td>\n",
       "      <td>2/17/2019</td>\n",
       "      <td>3</td>\n",
       "      <td>married</td>\n",
       "      <td>40423</td>\n",
       "    </tr>\n",
       "    <tr>\n",
       "      <th>1</th>\n",
       "      <td>2398795</td>\n",
       "      <td>1</td>\n",
       "      <td>2</td>\n",
       "      <td>3</td>\n",
       "      <td>7</td>\n",
       "      <td>15.0</td>\n",
       "      <td>False</td>\n",
       "      <td>196</td>\n",
       "      <td>1</td>\n",
       "      <td>1</td>\n",
       "      <td>Soda</td>\n",
       "      <td>77</td>\n",
       "      <td>7</td>\n",
       "      <td>9.0</td>\n",
       "      <td>both</td>\n",
       "      <td>Mid range product</td>\n",
       "      <td>Least busiest days</td>\n",
       "      <td>Average orders</td>\n",
       "      <td>10</td>\n",
       "      <td>New customer</td>\n",
       "      <td>6.367797</td>\n",
       "      <td>Low spender</td>\n",
       "      <td>20.5</td>\n",
       "      <td>Non-frequent customer</td>\n",
       "      <td>Female</td>\n",
       "      <td>Alabama</td>\n",
       "      <td>31</td>\n",
       "      <td>2/17/2019</td>\n",
       "      <td>3</td>\n",
       "      <td>married</td>\n",
       "      <td>40423</td>\n",
       "    </tr>\n",
       "    <tr>\n",
       "      <th>2</th>\n",
       "      <td>473747</td>\n",
       "      <td>1</td>\n",
       "      <td>3</td>\n",
       "      <td>3</td>\n",
       "      <td>12</td>\n",
       "      <td>21.0</td>\n",
       "      <td>False</td>\n",
       "      <td>196</td>\n",
       "      <td>1</td>\n",
       "      <td>1</td>\n",
       "      <td>Soda</td>\n",
       "      <td>77</td>\n",
       "      <td>7</td>\n",
       "      <td>9.0</td>\n",
       "      <td>both</td>\n",
       "      <td>Mid range product</td>\n",
       "      <td>Least busiest days</td>\n",
       "      <td>Most orders</td>\n",
       "      <td>10</td>\n",
       "      <td>New customer</td>\n",
       "      <td>6.367797</td>\n",
       "      <td>Low spender</td>\n",
       "      <td>20.5</td>\n",
       "      <td>Non-frequent customer</td>\n",
       "      <td>Female</td>\n",
       "      <td>Alabama</td>\n",
       "      <td>31</td>\n",
       "      <td>2/17/2019</td>\n",
       "      <td>3</td>\n",
       "      <td>married</td>\n",
       "      <td>40423</td>\n",
       "    </tr>\n",
       "    <tr>\n",
       "      <th>3</th>\n",
       "      <td>2254736</td>\n",
       "      <td>1</td>\n",
       "      <td>4</td>\n",
       "      <td>4</td>\n",
       "      <td>7</td>\n",
       "      <td>29.0</td>\n",
       "      <td>False</td>\n",
       "      <td>196</td>\n",
       "      <td>1</td>\n",
       "      <td>1</td>\n",
       "      <td>Soda</td>\n",
       "      <td>77</td>\n",
       "      <td>7</td>\n",
       "      <td>9.0</td>\n",
       "      <td>both</td>\n",
       "      <td>Mid range product</td>\n",
       "      <td>Least busiest days</td>\n",
       "      <td>Average orders</td>\n",
       "      <td>10</td>\n",
       "      <td>New customer</td>\n",
       "      <td>6.367797</td>\n",
       "      <td>Low spender</td>\n",
       "      <td>20.5</td>\n",
       "      <td>Non-frequent customer</td>\n",
       "      <td>Female</td>\n",
       "      <td>Alabama</td>\n",
       "      <td>31</td>\n",
       "      <td>2/17/2019</td>\n",
       "      <td>3</td>\n",
       "      <td>married</td>\n",
       "      <td>40423</td>\n",
       "    </tr>\n",
       "    <tr>\n",
       "      <th>4</th>\n",
       "      <td>431534</td>\n",
       "      <td>1</td>\n",
       "      <td>5</td>\n",
       "      <td>4</td>\n",
       "      <td>15</td>\n",
       "      <td>28.0</td>\n",
       "      <td>False</td>\n",
       "      <td>196</td>\n",
       "      <td>1</td>\n",
       "      <td>1</td>\n",
       "      <td>Soda</td>\n",
       "      <td>77</td>\n",
       "      <td>7</td>\n",
       "      <td>9.0</td>\n",
       "      <td>both</td>\n",
       "      <td>Mid range product</td>\n",
       "      <td>Least busiest days</td>\n",
       "      <td>Most orders</td>\n",
       "      <td>10</td>\n",
       "      <td>New customer</td>\n",
       "      <td>6.367797</td>\n",
       "      <td>Low spender</td>\n",
       "      <td>20.5</td>\n",
       "      <td>Non-frequent customer</td>\n",
       "      <td>Female</td>\n",
       "      <td>Alabama</td>\n",
       "      <td>31</td>\n",
       "      <td>2/17/2019</td>\n",
       "      <td>3</td>\n",
       "      <td>married</td>\n",
       "      <td>40423</td>\n",
       "    </tr>\n",
       "  </tbody>\n",
       "</table>\n",
       "</div>"
      ],
      "text/plain": [
       "   order_id user_id  number_of_orders_placed  orders_day_of_week  \\\n",
       "0   2539329       1                        1                   2   \n",
       "1   2398795       1                        2                   3   \n",
       "2    473747       1                        3                   3   \n",
       "3   2254736       1                        4                   4   \n",
       "4    431534       1                        5                   4   \n",
       "\n",
       "   order_hour_of_day  days_since_prior_order no_prior_orders  product_id  \\\n",
       "0                  8                     NaN            True         196   \n",
       "1                  7                    15.0           False         196   \n",
       "2                 12                    21.0           False         196   \n",
       "3                  7                    29.0           False         196   \n",
       "4                 15                    28.0           False         196   \n",
       "\n",
       "   add_to_cart_order  reordered product_name  aisle_id  department_id  prices  \\\n",
       "0                  1          0         Soda        77              7     9.0   \n",
       "1                  1          1         Soda        77              7     9.0   \n",
       "2                  1          1         Soda        77              7     9.0   \n",
       "3                  1          1         Soda        77              7     9.0   \n",
       "4                  1          1         Soda        77              7     9.0   \n",
       "\n",
       "  exists        price_label        busiest_days   busiest_hours  max_order  \\\n",
       "0   both  Mid range product      Regularly busy  Average orders         10   \n",
       "1   both  Mid range product  Least busiest days  Average orders         10   \n",
       "2   both  Mid range product  Least busiest days     Most orders         10   \n",
       "3   both  Mid range product  Least busiest days  Average orders         10   \n",
       "4   both  Mid range product  Least busiest days     Most orders         10   \n",
       "\n",
       "   loyalty_flag  avg_price spender_flag  med_frequency         frequency_flag  \\\n",
       "0  New customer   6.367797  Low spender           20.5  Non-frequent customer   \n",
       "1  New customer   6.367797  Low spender           20.5  Non-frequent customer   \n",
       "2  New customer   6.367797  Low spender           20.5  Non-frequent customer   \n",
       "3  New customer   6.367797  Low spender           20.5  Non-frequent customer   \n",
       "4  New customer   6.367797  Low spender           20.5  Non-frequent customer   \n",
       "\n",
       "   gender    state  age date_joined  number_of_dependents marital_status  \\\n",
       "0  Female  Alabama   31   2/17/2019                     3        married   \n",
       "1  Female  Alabama   31   2/17/2019                     3        married   \n",
       "2  Female  Alabama   31   2/17/2019                     3        married   \n",
       "3  Female  Alabama   31   2/17/2019                     3        married   \n",
       "4  Female  Alabama   31   2/17/2019                     3        married   \n",
       "\n",
       "   income  \n",
       "0   40423  \n",
       "1   40423  \n",
       "2   40423  \n",
       "3   40423  \n",
       "4   40423  "
      ]
     },
     "execution_count": 3,
     "metadata": {},
     "output_type": "execute_result"
    }
   ],
   "source": [
    "pd.set_option('display.max_columns', None) \n",
    "ords_prods_custs.head()"
   ]
  },
  {
   "cell_type": "markdown",
   "id": "e112e482",
   "metadata": {},
   "source": [
    "#### Having already removed the columns containing linkable PII (first name, last name), there is no data in the dataframe that can be used to directly identify the identity of any customer. PII present such as gender, state, age, dependents, marital status, and income are all unlinkable PII, and necessary to conduct analysis and answer business questions. As such, no further changes will be made to the dataset to address PII. "
   ]
  },
  {
   "cell_type": "markdown",
   "id": "134f9cfd",
   "metadata": {},
   "source": [
    "# 03. Customer Behaviour by Geography"
   ]
  },
  {
   "cell_type": "code",
   "execution_count": 4,
   "id": "981ed491",
   "metadata": {},
   "outputs": [],
   "source": [
    "# Using a For-Loop to categorize states by regions Northeast, Midwest, South, and West and assigning to list 'result'\n",
    "\n",
    "result = []\n",
    "\n",
    "for value in ords_prods_custs['state']:\n",
    "  if value in ['Maine','New Hampshire','Vermont','Massachusetts','Rhode Island','Connecticut','New York','Pennsylvania','New Jersey']:\n",
    "    result.append('Northeast')\n",
    "  elif value in ['Wisconsin','Michigan','Illinois','Indiana','Ohio','North Dakota','South Dakota','Nebraska','Kansas','Minnesota','Iowa','Missouri']:\n",
    "    result.append('Midwest')\n",
    "  elif value in ['Delaware','Maryland','District of Columbia','Virginia','West Virginia','North Carolina','South Carolina','Georgia','Florida','Kentucky','Tennessee','Mississippi','Alabama','Oklahoma','Texas','Arkansas','Louisiana']:  \n",
    "    result.append('South')\n",
    "  else:\n",
    "    result.append('West')\n",
    "    "
   ]
  },
  {
   "cell_type": "code",
   "execution_count": 5,
   "id": "c47ffcab",
   "metadata": {},
   "outputs": [],
   "source": [
    "# Creating a new region column using the result list\n",
    "ords_prods_custs['region'] = result"
   ]
  },
  {
   "cell_type": "code",
   "execution_count": 6,
   "id": "afe2d8de",
   "metadata": {},
   "outputs": [
    {
     "data": {
      "text/plain": [
       "South        10791885\n",
       "West          8292913\n",
       "Midwest       7597325\n",
       "Northeast     5722736\n",
       "Name: region, dtype: int64"
      ]
     },
     "execution_count": 6,
     "metadata": {},
     "output_type": "execute_result"
    }
   ],
   "source": [
    "ords_prods_custs['region'].value_counts()"
   ]
  },
  {
   "cell_type": "code",
   "execution_count": 7,
   "id": "fbeea754",
   "metadata": {},
   "outputs": [],
   "source": [
    "# Creating a cross tab of region and spender_flag columns to compare spending behaviors of customers by region\n",
    "crosstab = pd.crosstab(ords_prods_custs['region'], ords_prods_custs['spender_flag'], dropna = False)"
   ]
  },
  {
   "cell_type": "code",
   "execution_count": 8,
   "id": "62ed88a3",
   "metadata": {},
   "outputs": [
    {
     "data": {
      "text/html": [
       "<div>\n",
       "<style scoped>\n",
       "    .dataframe tbody tr th:only-of-type {\n",
       "        vertical-align: middle;\n",
       "    }\n",
       "\n",
       "    .dataframe tbody tr th {\n",
       "        vertical-align: top;\n",
       "    }\n",
       "\n",
       "    .dataframe thead th {\n",
       "        text-align: right;\n",
       "    }\n",
       "</style>\n",
       "<table border=\"1\" class=\"dataframe\">\n",
       "  <thead>\n",
       "    <tr style=\"text-align: right;\">\n",
       "      <th>spender_flag</th>\n",
       "      <th>High spender</th>\n",
       "      <th>Low spender</th>\n",
       "    </tr>\n",
       "    <tr>\n",
       "      <th>region</th>\n",
       "      <th></th>\n",
       "      <th></th>\n",
       "    </tr>\n",
       "  </thead>\n",
       "  <tbody>\n",
       "    <tr>\n",
       "      <th>Midwest</th>\n",
       "      <td>155975</td>\n",
       "      <td>7441350</td>\n",
       "    </tr>\n",
       "    <tr>\n",
       "      <th>Northeast</th>\n",
       "      <td>108225</td>\n",
       "      <td>5614511</td>\n",
       "    </tr>\n",
       "    <tr>\n",
       "      <th>South</th>\n",
       "      <td>209691</td>\n",
       "      <td>10582194</td>\n",
       "    </tr>\n",
       "    <tr>\n",
       "      <th>West</th>\n",
       "      <td>160354</td>\n",
       "      <td>8132559</td>\n",
       "    </tr>\n",
       "  </tbody>\n",
       "</table>\n",
       "</div>"
      ],
      "text/plain": [
       "spender_flag  High spender  Low spender\n",
       "region                                 \n",
       "Midwest             155975      7441350\n",
       "Northeast           108225      5614511\n",
       "South               209691     10582194\n",
       "West                160354      8132559"
      ]
     },
     "execution_count": 8,
     "metadata": {},
     "output_type": "execute_result"
    }
   ],
   "source": [
    "crosstab"
   ]
  },
  {
   "cell_type": "markdown",
   "id": "ec460883",
   "metadata": {},
   "source": [
    "#### Most Instacart customers live in the South, followed by the West, Midwest, and Northeast. While the number of customers by region differs, the proportion of high and low spenders by region are similar. Across each region, high spenders make up roughly 2% of the customer base, compared to 98% low spenders. "
   ]
  },
  {
   "cell_type": "markdown",
   "id": "6ba0deeb",
   "metadata": {},
   "source": [
    "# 04. Excluding Low-Activity Customers"
   ]
  },
  {
   "cell_type": "code",
   "execution_count": 9,
   "id": "295d5540",
   "metadata": {},
   "outputs": [],
   "source": [
    "# Using loc() function to create flag identifying low-activity customers with less than 5 orders. \n",
    "\n",
    "ords_prods_custs.loc[ords_prods_custs['max_order'] < 5, 'spender_activity_flag'] = 'Low activity spender'"
   ]
  },
  {
   "cell_type": "code",
   "execution_count": 10,
   "id": "ad952aa0",
   "metadata": {},
   "outputs": [],
   "source": [
    "# Using loc() function to create flag identifying normal activity customers with 5 or more orders. \n",
    "\n",
    "ords_prods_custs.loc[ords_prods_custs['max_order'] >= 5, 'spender_activity_flag'] = 'Normal activity spender'"
   ]
  },
  {
   "cell_type": "code",
   "execution_count": 11,
   "id": "6242eaba",
   "metadata": {},
   "outputs": [
    {
     "data": {
      "text/plain": [
       "Normal activity spender    30964564\n",
       "Low activity spender        1440295\n",
       "Name: spender_activity_flag, dtype: int64"
      ]
     },
     "execution_count": 11,
     "metadata": {},
     "output_type": "execute_result"
    }
   ],
   "source": [
    "ords_prods_custs['spender_activity_flag'].value_counts(dropna = False)"
   ]
  },
  {
   "cell_type": "code",
   "execution_count": 12,
   "id": "5892c0ee",
   "metadata": {},
   "outputs": [
    {
     "data": {
      "text/html": [
       "<div>\n",
       "<style scoped>\n",
       "    .dataframe tbody tr th:only-of-type {\n",
       "        vertical-align: middle;\n",
       "    }\n",
       "\n",
       "    .dataframe tbody tr th {\n",
       "        vertical-align: top;\n",
       "    }\n",
       "\n",
       "    .dataframe thead th {\n",
       "        text-align: right;\n",
       "    }\n",
       "</style>\n",
       "<table border=\"1\" class=\"dataframe\">\n",
       "  <thead>\n",
       "    <tr style=\"text-align: right;\">\n",
       "      <th></th>\n",
       "      <th>order_id</th>\n",
       "      <th>user_id</th>\n",
       "      <th>number_of_orders_placed</th>\n",
       "      <th>orders_day_of_week</th>\n",
       "      <th>order_hour_of_day</th>\n",
       "      <th>days_since_prior_order</th>\n",
       "      <th>no_prior_orders</th>\n",
       "      <th>product_id</th>\n",
       "      <th>add_to_cart_order</th>\n",
       "      <th>reordered</th>\n",
       "      <th>product_name</th>\n",
       "      <th>aisle_id</th>\n",
       "      <th>department_id</th>\n",
       "      <th>prices</th>\n",
       "      <th>exists</th>\n",
       "      <th>price_label</th>\n",
       "      <th>busiest_days</th>\n",
       "      <th>busiest_hours</th>\n",
       "      <th>max_order</th>\n",
       "      <th>loyalty_flag</th>\n",
       "      <th>avg_price</th>\n",
       "      <th>spender_flag</th>\n",
       "      <th>med_frequency</th>\n",
       "      <th>frequency_flag</th>\n",
       "      <th>gender</th>\n",
       "      <th>state</th>\n",
       "      <th>age</th>\n",
       "      <th>date_joined</th>\n",
       "      <th>number_of_dependents</th>\n",
       "      <th>marital_status</th>\n",
       "      <th>income</th>\n",
       "      <th>region</th>\n",
       "      <th>spender_activity_flag</th>\n",
       "    </tr>\n",
       "  </thead>\n",
       "  <tbody>\n",
       "    <tr>\n",
       "      <th>0</th>\n",
       "      <td>2539329</td>\n",
       "      <td>1</td>\n",
       "      <td>1</td>\n",
       "      <td>2</td>\n",
       "      <td>8</td>\n",
       "      <td>NaN</td>\n",
       "      <td>True</td>\n",
       "      <td>196</td>\n",
       "      <td>1</td>\n",
       "      <td>0</td>\n",
       "      <td>Soda</td>\n",
       "      <td>77</td>\n",
       "      <td>7</td>\n",
       "      <td>9.0</td>\n",
       "      <td>both</td>\n",
       "      <td>Mid range product</td>\n",
       "      <td>Regularly busy</td>\n",
       "      <td>Average orders</td>\n",
       "      <td>10</td>\n",
       "      <td>New customer</td>\n",
       "      <td>6.367797</td>\n",
       "      <td>Low spender</td>\n",
       "      <td>20.5</td>\n",
       "      <td>Non-frequent customer</td>\n",
       "      <td>Female</td>\n",
       "      <td>Alabama</td>\n",
       "      <td>31</td>\n",
       "      <td>2/17/2019</td>\n",
       "      <td>3</td>\n",
       "      <td>married</td>\n",
       "      <td>40423</td>\n",
       "      <td>South</td>\n",
       "      <td>Normal activity spender</td>\n",
       "    </tr>\n",
       "    <tr>\n",
       "      <th>1</th>\n",
       "      <td>2398795</td>\n",
       "      <td>1</td>\n",
       "      <td>2</td>\n",
       "      <td>3</td>\n",
       "      <td>7</td>\n",
       "      <td>15.0</td>\n",
       "      <td>False</td>\n",
       "      <td>196</td>\n",
       "      <td>1</td>\n",
       "      <td>1</td>\n",
       "      <td>Soda</td>\n",
       "      <td>77</td>\n",
       "      <td>7</td>\n",
       "      <td>9.0</td>\n",
       "      <td>both</td>\n",
       "      <td>Mid range product</td>\n",
       "      <td>Least busiest days</td>\n",
       "      <td>Average orders</td>\n",
       "      <td>10</td>\n",
       "      <td>New customer</td>\n",
       "      <td>6.367797</td>\n",
       "      <td>Low spender</td>\n",
       "      <td>20.5</td>\n",
       "      <td>Non-frequent customer</td>\n",
       "      <td>Female</td>\n",
       "      <td>Alabama</td>\n",
       "      <td>31</td>\n",
       "      <td>2/17/2019</td>\n",
       "      <td>3</td>\n",
       "      <td>married</td>\n",
       "      <td>40423</td>\n",
       "      <td>South</td>\n",
       "      <td>Normal activity spender</td>\n",
       "    </tr>\n",
       "    <tr>\n",
       "      <th>2</th>\n",
       "      <td>473747</td>\n",
       "      <td>1</td>\n",
       "      <td>3</td>\n",
       "      <td>3</td>\n",
       "      <td>12</td>\n",
       "      <td>21.0</td>\n",
       "      <td>False</td>\n",
       "      <td>196</td>\n",
       "      <td>1</td>\n",
       "      <td>1</td>\n",
       "      <td>Soda</td>\n",
       "      <td>77</td>\n",
       "      <td>7</td>\n",
       "      <td>9.0</td>\n",
       "      <td>both</td>\n",
       "      <td>Mid range product</td>\n",
       "      <td>Least busiest days</td>\n",
       "      <td>Most orders</td>\n",
       "      <td>10</td>\n",
       "      <td>New customer</td>\n",
       "      <td>6.367797</td>\n",
       "      <td>Low spender</td>\n",
       "      <td>20.5</td>\n",
       "      <td>Non-frequent customer</td>\n",
       "      <td>Female</td>\n",
       "      <td>Alabama</td>\n",
       "      <td>31</td>\n",
       "      <td>2/17/2019</td>\n",
       "      <td>3</td>\n",
       "      <td>married</td>\n",
       "      <td>40423</td>\n",
       "      <td>South</td>\n",
       "      <td>Normal activity spender</td>\n",
       "    </tr>\n",
       "    <tr>\n",
       "      <th>3</th>\n",
       "      <td>2254736</td>\n",
       "      <td>1</td>\n",
       "      <td>4</td>\n",
       "      <td>4</td>\n",
       "      <td>7</td>\n",
       "      <td>29.0</td>\n",
       "      <td>False</td>\n",
       "      <td>196</td>\n",
       "      <td>1</td>\n",
       "      <td>1</td>\n",
       "      <td>Soda</td>\n",
       "      <td>77</td>\n",
       "      <td>7</td>\n",
       "      <td>9.0</td>\n",
       "      <td>both</td>\n",
       "      <td>Mid range product</td>\n",
       "      <td>Least busiest days</td>\n",
       "      <td>Average orders</td>\n",
       "      <td>10</td>\n",
       "      <td>New customer</td>\n",
       "      <td>6.367797</td>\n",
       "      <td>Low spender</td>\n",
       "      <td>20.5</td>\n",
       "      <td>Non-frequent customer</td>\n",
       "      <td>Female</td>\n",
       "      <td>Alabama</td>\n",
       "      <td>31</td>\n",
       "      <td>2/17/2019</td>\n",
       "      <td>3</td>\n",
       "      <td>married</td>\n",
       "      <td>40423</td>\n",
       "      <td>South</td>\n",
       "      <td>Normal activity spender</td>\n",
       "    </tr>\n",
       "    <tr>\n",
       "      <th>4</th>\n",
       "      <td>431534</td>\n",
       "      <td>1</td>\n",
       "      <td>5</td>\n",
       "      <td>4</td>\n",
       "      <td>15</td>\n",
       "      <td>28.0</td>\n",
       "      <td>False</td>\n",
       "      <td>196</td>\n",
       "      <td>1</td>\n",
       "      <td>1</td>\n",
       "      <td>Soda</td>\n",
       "      <td>77</td>\n",
       "      <td>7</td>\n",
       "      <td>9.0</td>\n",
       "      <td>both</td>\n",
       "      <td>Mid range product</td>\n",
       "      <td>Least busiest days</td>\n",
       "      <td>Most orders</td>\n",
       "      <td>10</td>\n",
       "      <td>New customer</td>\n",
       "      <td>6.367797</td>\n",
       "      <td>Low spender</td>\n",
       "      <td>20.5</td>\n",
       "      <td>Non-frequent customer</td>\n",
       "      <td>Female</td>\n",
       "      <td>Alabama</td>\n",
       "      <td>31</td>\n",
       "      <td>2/17/2019</td>\n",
       "      <td>3</td>\n",
       "      <td>married</td>\n",
       "      <td>40423</td>\n",
       "      <td>South</td>\n",
       "      <td>Normal activity spender</td>\n",
       "    </tr>\n",
       "  </tbody>\n",
       "</table>\n",
       "</div>"
      ],
      "text/plain": [
       "   order_id user_id  number_of_orders_placed  orders_day_of_week  \\\n",
       "0   2539329       1                        1                   2   \n",
       "1   2398795       1                        2                   3   \n",
       "2    473747       1                        3                   3   \n",
       "3   2254736       1                        4                   4   \n",
       "4    431534       1                        5                   4   \n",
       "\n",
       "   order_hour_of_day  days_since_prior_order no_prior_orders  product_id  \\\n",
       "0                  8                     NaN            True         196   \n",
       "1                  7                    15.0           False         196   \n",
       "2                 12                    21.0           False         196   \n",
       "3                  7                    29.0           False         196   \n",
       "4                 15                    28.0           False         196   \n",
       "\n",
       "   add_to_cart_order  reordered product_name  aisle_id  department_id  prices  \\\n",
       "0                  1          0         Soda        77              7     9.0   \n",
       "1                  1          1         Soda        77              7     9.0   \n",
       "2                  1          1         Soda        77              7     9.0   \n",
       "3                  1          1         Soda        77              7     9.0   \n",
       "4                  1          1         Soda        77              7     9.0   \n",
       "\n",
       "  exists        price_label        busiest_days   busiest_hours  max_order  \\\n",
       "0   both  Mid range product      Regularly busy  Average orders         10   \n",
       "1   both  Mid range product  Least busiest days  Average orders         10   \n",
       "2   both  Mid range product  Least busiest days     Most orders         10   \n",
       "3   both  Mid range product  Least busiest days  Average orders         10   \n",
       "4   both  Mid range product  Least busiest days     Most orders         10   \n",
       "\n",
       "   loyalty_flag  avg_price spender_flag  med_frequency         frequency_flag  \\\n",
       "0  New customer   6.367797  Low spender           20.5  Non-frequent customer   \n",
       "1  New customer   6.367797  Low spender           20.5  Non-frequent customer   \n",
       "2  New customer   6.367797  Low spender           20.5  Non-frequent customer   \n",
       "3  New customer   6.367797  Low spender           20.5  Non-frequent customer   \n",
       "4  New customer   6.367797  Low spender           20.5  Non-frequent customer   \n",
       "\n",
       "   gender    state  age date_joined  number_of_dependents marital_status  \\\n",
       "0  Female  Alabama   31   2/17/2019                     3        married   \n",
       "1  Female  Alabama   31   2/17/2019                     3        married   \n",
       "2  Female  Alabama   31   2/17/2019                     3        married   \n",
       "3  Female  Alabama   31   2/17/2019                     3        married   \n",
       "4  Female  Alabama   31   2/17/2019                     3        married   \n",
       "\n",
       "   income region    spender_activity_flag  \n",
       "0   40423  South  Normal activity spender  \n",
       "1   40423  South  Normal activity spender  \n",
       "2   40423  South  Normal activity spender  \n",
       "3   40423  South  Normal activity spender  \n",
       "4   40423  South  Normal activity spender  "
      ]
     },
     "execution_count": 12,
     "metadata": {},
     "output_type": "execute_result"
    }
   ],
   "source": [
    "ords_prods_custs.head()"
   ]
  },
  {
   "cell_type": "code",
   "execution_count": null,
   "id": "33640a88",
   "metadata": {},
   "outputs": [],
   "source": [
    "# Exporting dataframe with low activity flag\n",
    "ords_prods_custs.to_pickle(os.path.join(path,'02 Data','Prepared Data', 'orders_products_customers_activity.pkl'))"
   ]
  },
  {
   "cell_type": "code",
   "execution_count": 2,
   "id": "96a2c70d",
   "metadata": {},
   "outputs": [],
   "source": [
    "# Importing dataframe with low activity flag\n",
    "\n",
    "path = r'C:\\Users\\maple\\OneDrive\\Desktop\\CareerFoundry\\Instacart Basket Analysis'\n",
    "ords_prods_custs = pd.read_pickle(os.path.join(path,'02 Data','Prepared Data', 'orders_products_customers_activity.pkl'))"
   ]
  },
  {
   "cell_type": "code",
   "execution_count": 3,
   "id": "3e4f8b73",
   "metadata": {},
   "outputs": [],
   "source": [
    "# Creating a new dataframe of only normal activity spenders\n",
    "ords_prods_custs_2 = ords_prods_custs[ords_prods_custs['spender_activity_flag'] == 'Normal activity spender']"
   ]
  },
  {
   "cell_type": "code",
   "execution_count": 4,
   "id": "5b21be87",
   "metadata": {},
   "outputs": [
    {
     "data": {
      "text/plain": [
       "(30964564, 33)"
      ]
     },
     "execution_count": 4,
     "metadata": {},
     "output_type": "execute_result"
    }
   ],
   "source": [
    "ords_prods_custs_2.shape"
   ]
  },
  {
   "cell_type": "code",
   "execution_count": null,
   "id": "2a252528",
   "metadata": {},
   "outputs": [],
   "source": [
    "# Exporting dataframe of only normal activity spenders. Exporting in chunks due to memory issues. \n",
    "ords_prods_custs_2[:10000000].to_pickle(os.path.join(path,'02 Data','Prepared Data', 'orders_products_customers_normal_activity_1.pkl'))\n",
    "ords_prods_custs_2[10000000:20000000].to_pickle(os.path.join(path,'02 Data','Prepared Data', 'orders_products_customers_normal_activity_2.pkl'))\n",
    "ords_prods_custs_2[20000000:30964564].to_pickle(os.path.join(path,'02 Data','Prepared Data', 'orders_products_customers_normal_activity_3.pkl'))"
   ]
  },
  {
   "cell_type": "markdown",
   "id": "ee468f7a",
   "metadata": {},
   "source": [
    "# 05. Customer Profiles"
   ]
  },
  {
   "cell_type": "code",
   "execution_count": 5,
   "id": "bc9638eb",
   "metadata": {},
   "outputs": [
    {
     "name": "stderr",
     "output_type": "stream",
     "text": [
      "C:\\Users\\maple\\AppData\\Local\\Temp\\ipykernel_22176\\4076018452.py:2: SettingWithCopyWarning: \n",
      "A value is trying to be set on a copy of a slice from a DataFrame.\n",
      "Try using .loc[row_indexer,col_indexer] = value instead\n",
      "\n",
      "See the caveats in the documentation: https://pandas.pydata.org/pandas-docs/stable/user_guide/indexing.html#returning-a-view-versus-a-copy\n",
      "  ords_prods_custs_2.loc[(ords_prods_custs_2['income']>50000) & (ords_prods_custs_2['age'] <= 30), 'profile'] = 'Young professional'\n"
     ]
    }
   ],
   "source": [
    "# Creating profile variable and young professional profile for customers with income > 50,000 and age <= 30\n",
    "ords_prods_custs_2.loc[(ords_prods_custs_2['income']>50000) & (ords_prods_custs_2['age'] <= 30), 'profile'] = 'Young professional'"
   ]
  },
  {
   "cell_type": "code",
   "execution_count": 13,
   "id": "8359fff2",
   "metadata": {},
   "outputs": [],
   "source": [
    "# Creating wealthy retiree profile for customers with income > 100,000 and age >= 65\n",
    "ords_prods_custs_2.loc[(ords_prods_custs_2['income']>100000) & (ords_prods_custs_2['age'] >= 65), 'profile'] = 'Wealthy retiree'"
   ]
  },
  {
   "cell_type": "code",
   "execution_count": 8,
   "id": "ffae6e77",
   "metadata": {},
   "outputs": [],
   "source": [
    "# Creating high income no children profile for customers with married marital status and 0 dependents\n",
    "ords_prods_custs_2.loc[(ords_prods_custs_2['income'] >= 100000) & (ords_prods_custs_2['number_of_dependents'] == 0), 'profile'] = 'High income no children'"
   ]
  },
  {
   "cell_type": "code",
   "execution_count": 9,
   "id": "b442f757",
   "metadata": {},
   "outputs": [],
   "source": [
    "# Creating new parent profile for customers with 1 dependent and a purchase in the baby department\n",
    "ords_prods_custs_2.loc[(ords_prods_custs_2['department_id']== 18) & (ords_prods_custs_2['number_of_dependents'] >= 1), 'profile'] = 'New parent'"
   ]
  },
  {
   "cell_type": "code",
   "execution_count": 10,
   "id": "ab17a78f",
   "metadata": {},
   "outputs": [],
   "source": [
    "# Creating pet owner profile for customers with 0 dependents and a purchase in the pet department\n",
    "ords_prods_custs_2.loc[(ords_prods_custs_2['department_id']== 8), 'profile'] = 'Pet owner'"
   ]
  },
  {
   "cell_type": "code",
   "execution_count": 11,
   "id": "8c45a401",
   "metadata": {},
   "outputs": [],
   "source": [
    "# Creating nuclear family profile for customers married with children\n",
    "ords_prods_custs_2.loc[(ords_prods_custs_2['marital_status'].isin(['married'])) & (ords_prods_custs_2['number_of_dependents'] >= 1), 'profile'] = 'Nuclear family'"
   ]
  },
  {
   "cell_type": "markdown",
   "id": "2964ab18",
   "metadata": {},
   "source": [
    "# 06. Profile Distribution Visual"
   ]
  },
  {
   "cell_type": "code",
   "execution_count": 14,
   "id": "8c192d8e",
   "metadata": {},
   "outputs": [
    {
     "data": {
      "text/plain": [
       "Nuclear family             17422008\n",
       "Wealthy retiree             5741763\n",
       "NaN                         3116746\n",
       "Young professional          2498663\n",
       "High income no children     2142084\n",
       "Pet owner                     23919\n",
       "New parent                    19381\n",
       "Name: profile, dtype: int64"
      ]
     },
     "execution_count": 14,
     "metadata": {},
     "output_type": "execute_result"
    }
   ],
   "source": [
    "ords_prods_custs_2['profile'].value_counts(dropna = False)"
   ]
  },
  {
   "cell_type": "code",
   "execution_count": 15,
   "id": "ce6b2850",
   "metadata": {},
   "outputs": [
    {
     "data": {
      "image/png": "[encoded data removed]",
      "text/plain": [
       "<Figure size 432x288 with 1 Axes>"
      ]
     },
     "metadata": {
      "needs_background": "light"
     },
     "output_type": "display_data"
    }
   ],
   "source": [
    "profile_bar = ords_prods_custs_2['profile'].value_counts().plot.bar()"
   ]
  },
  {
   "cell_type": "markdown",
   "id": "ea463d2a",
   "metadata": {},
   "source": [
    "# 07. Data Aggregates"
   ]
  },
  {
   "cell_type": "code",
   "execution_count": 16,
   "id": "e2329f62",
   "metadata": {},
   "outputs": [
    {
     "data": {
      "text/html": [
       "<div>\n",
       "<style scoped>\n",
       "    .dataframe tbody tr th:only-of-type {\n",
       "        vertical-align: middle;\n",
       "    }\n",
       "\n",
       "    .dataframe tbody tr th {\n",
       "        vertical-align: top;\n",
       "    }\n",
       "\n",
       "    .dataframe thead tr th {\n",
       "        text-align: left;\n",
       "    }\n",
       "\n",
       "    .dataframe thead tr:last-of-type th {\n",
       "        text-align: right;\n",
       "    }\n",
       "</style>\n",
       "<table border=\"1\" class=\"dataframe\">\n",
       "  <thead>\n",
       "    <tr>\n",
       "      <th></th>\n",
       "      <th colspan=\"3\" halign=\"left\">prices</th>\n",
       "    </tr>\n",
       "    <tr>\n",
       "      <th></th>\n",
       "      <th>mean</th>\n",
       "      <th>min</th>\n",
       "      <th>max</th>\n",
       "    </tr>\n",
       "    <tr>\n",
       "      <th>profile</th>\n",
       "      <th></th>\n",
       "      <th></th>\n",
       "      <th></th>\n",
       "    </tr>\n",
       "  </thead>\n",
       "  <tbody>\n",
       "    <tr>\n",
       "      <th>High income no children</th>\n",
       "      <td>7.949219</td>\n",
       "      <td>1.000000</td>\n",
       "      <td>25.0</td>\n",
       "    </tr>\n",
       "    <tr>\n",
       "      <th>New parent</th>\n",
       "      <td>7.722656</td>\n",
       "      <td>1.099609</td>\n",
       "      <td>15.0</td>\n",
       "    </tr>\n",
       "    <tr>\n",
       "      <th>Nuclear family</th>\n",
       "      <td>7.750000</td>\n",
       "      <td>1.000000</td>\n",
       "      <td>25.0</td>\n",
       "    </tr>\n",
       "    <tr>\n",
       "      <th>Pet owner</th>\n",
       "      <td>7.984375</td>\n",
       "      <td>1.000000</td>\n",
       "      <td>15.0</td>\n",
       "    </tr>\n",
       "    <tr>\n",
       "      <th>Wealthy retiree</th>\n",
       "      <td>7.953125</td>\n",
       "      <td>1.000000</td>\n",
       "      <td>25.0</td>\n",
       "    </tr>\n",
       "    <tr>\n",
       "      <th>Young professional</th>\n",
       "      <td>7.949219</td>\n",
       "      <td>1.000000</td>\n",
       "      <td>25.0</td>\n",
       "    </tr>\n",
       "  </tbody>\n",
       "</table>\n",
       "</div>"
      ],
      "text/plain": [
       "                           prices                \n",
       "                             mean       min   max\n",
       "profile                                          \n",
       "High income no children  7.949219  1.000000  25.0\n",
       "New parent               7.722656  1.099609  15.0\n",
       "Nuclear family           7.750000  1.000000  25.0\n",
       "Pet owner                7.984375  1.000000  15.0\n",
       "Wealthy retiree          7.953125  1.000000  25.0\n",
       "Young professional       7.949219  1.000000  25.0"
      ]
     },
     "execution_count": 16,
     "metadata": {},
     "output_type": "execute_result"
    }
   ],
   "source": [
    "# Aggregating the mean, min, and max prices by profile \n",
    "ords_prods_custs_2.groupby('profile').agg({'prices':['mean','min','max']})"
   ]
  },
  {
   "cell_type": "code",
   "execution_count": 17,
   "id": "3f6c9e7f",
   "metadata": {},
   "outputs": [
    {
     "data": {
      "text/html": [
       "<div>\n",
       "<style scoped>\n",
       "    .dataframe tbody tr th:only-of-type {\n",
       "        vertical-align: middle;\n",
       "    }\n",
       "\n",
       "    .dataframe tbody tr th {\n",
       "        vertical-align: top;\n",
       "    }\n",
       "\n",
       "    .dataframe thead tr th {\n",
       "        text-align: left;\n",
       "    }\n",
       "\n",
       "    .dataframe thead tr:last-of-type th {\n",
       "        text-align: right;\n",
       "    }\n",
       "</style>\n",
       "<table border=\"1\" class=\"dataframe\">\n",
       "  <thead>\n",
       "    <tr>\n",
       "      <th></th>\n",
       "      <th colspan=\"3\" halign=\"left\">number_of_orders_placed</th>\n",
       "    </tr>\n",
       "    <tr>\n",
       "      <th></th>\n",
       "      <th>mean</th>\n",
       "      <th>min</th>\n",
       "      <th>max</th>\n",
       "    </tr>\n",
       "    <tr>\n",
       "      <th>profile</th>\n",
       "      <th></th>\n",
       "      <th></th>\n",
       "      <th></th>\n",
       "    </tr>\n",
       "  </thead>\n",
       "  <tbody>\n",
       "    <tr>\n",
       "      <th>High income no children</th>\n",
       "      <td>18.411389</td>\n",
       "      <td>1</td>\n",
       "      <td>99</td>\n",
       "    </tr>\n",
       "    <tr>\n",
       "      <th>New parent</th>\n",
       "      <td>18.930241</td>\n",
       "      <td>1</td>\n",
       "      <td>99</td>\n",
       "    </tr>\n",
       "    <tr>\n",
       "      <th>Nuclear family</th>\n",
       "      <td>17.775794</td>\n",
       "      <td>1</td>\n",
       "      <td>99</td>\n",
       "    </tr>\n",
       "    <tr>\n",
       "      <th>Pet owner</th>\n",
       "      <td>15.704419</td>\n",
       "      <td>1</td>\n",
       "      <td>99</td>\n",
       "    </tr>\n",
       "    <tr>\n",
       "      <th>Wealthy retiree</th>\n",
       "      <td>17.829982</td>\n",
       "      <td>1</td>\n",
       "      <td>99</td>\n",
       "    </tr>\n",
       "    <tr>\n",
       "      <th>Young professional</th>\n",
       "      <td>18.010552</td>\n",
       "      <td>1</td>\n",
       "      <td>99</td>\n",
       "    </tr>\n",
       "  </tbody>\n",
       "</table>\n",
       "</div>"
      ],
      "text/plain": [
       "                        number_of_orders_placed        \n",
       "                                           mean min max\n",
       "profile                                                \n",
       "High income no children               18.411389   1  99\n",
       "New parent                            18.930241   1  99\n",
       "Nuclear family                        17.775794   1  99\n",
       "Pet owner                             15.704419   1  99\n",
       "Wealthy retiree                       17.829982   1  99\n",
       "Young professional                    18.010552   1  99"
      ]
     },
     "execution_count": 17,
     "metadata": {},
     "output_type": "execute_result"
    }
   ],
   "source": [
    "# Aggregating the mean, min, and max number of orders placed by profile \n",
    "ords_prods_custs_2.groupby('profile').agg({'number_of_orders_placed':['mean','min','max']})"
   ]
  },
  {
   "cell_type": "markdown",
   "id": "860d8e50",
   "metadata": {},
   "source": [
    "# 08. Profile, Region, Department Comparison"
   ]
  },
  {
   "cell_type": "code",
   "execution_count": 18,
   "id": "eb91cde8",
   "metadata": {},
   "outputs": [],
   "source": [
    "# Creating a crosstab to compare profiles and region\n",
    "region_profiles = pd.crosstab(ords_prods_custs_2['region'], ords_prods_custs_2['profile'], dropna = False)"
   ]
  },
  {
   "cell_type": "code",
   "execution_count": 19,
   "id": "7b4fcaa2",
   "metadata": {},
   "outputs": [
    {
     "data": {
      "text/html": [
       "<div>\n",
       "<style scoped>\n",
       "    .dataframe tbody tr th:only-of-type {\n",
       "        vertical-align: middle;\n",
       "    }\n",
       "\n",
       "    .dataframe tbody tr th {\n",
       "        vertical-align: top;\n",
       "    }\n",
       "\n",
       "    .dataframe thead th {\n",
       "        text-align: right;\n",
       "    }\n",
       "</style>\n",
       "<table border=\"1\" class=\"dataframe\">\n",
       "  <thead>\n",
       "    <tr style=\"text-align: right;\">\n",
       "      <th>profile</th>\n",
       "      <th>High income no children</th>\n",
       "      <th>New parent</th>\n",
       "      <th>Nuclear family</th>\n",
       "      <th>Pet owner</th>\n",
       "      <th>Wealthy retiree</th>\n",
       "      <th>Young professional</th>\n",
       "    </tr>\n",
       "    <tr>\n",
       "      <th>region</th>\n",
       "      <th></th>\n",
       "      <th></th>\n",
       "      <th></th>\n",
       "      <th></th>\n",
       "      <th></th>\n",
       "      <th></th>\n",
       "    </tr>\n",
       "  </thead>\n",
       "  <tbody>\n",
       "    <tr>\n",
       "      <th>Midwest</th>\n",
       "      <td>526181</td>\n",
       "      <td>5057</td>\n",
       "      <td>4067886</td>\n",
       "      <td>6169</td>\n",
       "      <td>1338228</td>\n",
       "      <td>577847</td>\n",
       "    </tr>\n",
       "    <tr>\n",
       "      <th>Northeast</th>\n",
       "      <td>343230</td>\n",
       "      <td>3157</td>\n",
       "      <td>3079423</td>\n",
       "      <td>4161</td>\n",
       "      <td>1043604</td>\n",
       "      <td>447412</td>\n",
       "    </tr>\n",
       "    <tr>\n",
       "      <th>South</th>\n",
       "      <td>717908</td>\n",
       "      <td>6636</td>\n",
       "      <td>5791745</td>\n",
       "      <td>7269</td>\n",
       "      <td>1893622</td>\n",
       "      <td>862618</td>\n",
       "    </tr>\n",
       "    <tr>\n",
       "      <th>West</th>\n",
       "      <td>554765</td>\n",
       "      <td>4531</td>\n",
       "      <td>4482954</td>\n",
       "      <td>6320</td>\n",
       "      <td>1466309</td>\n",
       "      <td>610786</td>\n",
       "    </tr>\n",
       "  </tbody>\n",
       "</table>\n",
       "</div>"
      ],
      "text/plain": [
       "profile    High income no children  New parent  Nuclear family  Pet owner  \\\n",
       "region                                                                      \n",
       "Midwest                     526181        5057         4067886       6169   \n",
       "Northeast                   343230        3157         3079423       4161   \n",
       "South                       717908        6636         5791745       7269   \n",
       "West                        554765        4531         4482954       6320   \n",
       "\n",
       "profile    Wealthy retiree  Young professional  \n",
       "region                                          \n",
       "Midwest            1338228              577847  \n",
       "Northeast          1043604              447412  \n",
       "South              1893622              862618  \n",
       "West               1466309              610786  "
      ]
     },
     "execution_count": 19,
     "metadata": {},
     "output_type": "execute_result"
    }
   ],
   "source": [
    "region_profiles"
   ]
  },
  {
   "cell_type": "code",
   "execution_count": 20,
   "id": "fa524d25",
   "metadata": {},
   "outputs": [],
   "source": [
    "# Creating a crosstab to compare profiles and department\n",
    "department_profiles = pd.crosstab(ords_prods_custs_2['department_id'], ords_prods_custs_2['profile'], dropna = False)"
   ]
  },
  {
   "cell_type": "code",
   "execution_count": 21,
   "id": "c5ed238e",
   "metadata": {},
   "outputs": [
    {
     "data": {
      "text/html": [
       "<div>\n",
       "<style scoped>\n",
       "    .dataframe tbody tr th:only-of-type {\n",
       "        vertical-align: middle;\n",
       "    }\n",
       "\n",
       "    .dataframe tbody tr th {\n",
       "        vertical-align: top;\n",
       "    }\n",
       "\n",
       "    .dataframe thead th {\n",
       "        text-align: right;\n",
       "    }\n",
       "</style>\n",
       "<table border=\"1\" class=\"dataframe\">\n",
       "  <thead>\n",
       "    <tr style=\"text-align: right;\">\n",
       "      <th>profile</th>\n",
       "      <th>High income no children</th>\n",
       "      <th>New parent</th>\n",
       "      <th>Nuclear family</th>\n",
       "      <th>Pet owner</th>\n",
       "      <th>Wealthy retiree</th>\n",
       "      <th>Young professional</th>\n",
       "    </tr>\n",
       "    <tr>\n",
       "      <th>department_id</th>\n",
       "      <th></th>\n",
       "      <th></th>\n",
       "      <th></th>\n",
       "      <th></th>\n",
       "      <th></th>\n",
       "      <th></th>\n",
       "    </tr>\n",
       "  </thead>\n",
       "  <tbody>\n",
       "    <tr>\n",
       "      <th>1</th>\n",
       "      <td>148591</td>\n",
       "      <td>0</td>\n",
       "      <td>1189248</td>\n",
       "      <td>0</td>\n",
       "      <td>399406</td>\n",
       "      <td>173323</td>\n",
       "    </tr>\n",
       "    <tr>\n",
       "      <th>2</th>\n",
       "      <td>2443</td>\n",
       "      <td>0</td>\n",
       "      <td>19073</td>\n",
       "      <td>0</td>\n",
       "      <td>6312</td>\n",
       "      <td>2944</td>\n",
       "    </tr>\n",
       "    <tr>\n",
       "      <th>3</th>\n",
       "      <td>81833</td>\n",
       "      <td>0</td>\n",
       "      <td>626064</td>\n",
       "      <td>0</td>\n",
       "      <td>211418</td>\n",
       "      <td>92755</td>\n",
       "    </tr>\n",
       "    <tr>\n",
       "      <th>4</th>\n",
       "      <td>640879</td>\n",
       "      <td>0</td>\n",
       "      <td>5083031</td>\n",
       "      <td>0</td>\n",
       "      <td>1719488</td>\n",
       "      <td>763238</td>\n",
       "    </tr>\n",
       "    <tr>\n",
       "      <th>5</th>\n",
       "      <td>11729</td>\n",
       "      <td>0</td>\n",
       "      <td>80204</td>\n",
       "      <td>0</td>\n",
       "      <td>25756</td>\n",
       "      <td>12190</td>\n",
       "    </tr>\n",
       "    <tr>\n",
       "      <th>6</th>\n",
       "      <td>18276</td>\n",
       "      <td>0</td>\n",
       "      <td>142729</td>\n",
       "      <td>0</td>\n",
       "      <td>48512</td>\n",
       "      <td>22076</td>\n",
       "    </tr>\n",
       "    <tr>\n",
       "      <th>7</th>\n",
       "      <td>171446</td>\n",
       "      <td>0</td>\n",
       "      <td>1466117</td>\n",
       "      <td>0</td>\n",
       "      <td>454001</td>\n",
       "      <td>194558</td>\n",
       "    </tr>\n",
       "    <tr>\n",
       "      <th>8</th>\n",
       "      <td>0</td>\n",
       "      <td>0</td>\n",
       "      <td>50516</td>\n",
       "      <td>23919</td>\n",
       "      <td>18625</td>\n",
       "      <td>0</td>\n",
       "    </tr>\n",
       "    <tr>\n",
       "      <th>9</th>\n",
       "      <td>58966</td>\n",
       "      <td>0</td>\n",
       "      <td>457996</td>\n",
       "      <td>0</td>\n",
       "      <td>158994</td>\n",
       "      <td>70539</td>\n",
       "    </tr>\n",
       "    <tr>\n",
       "      <th>10</th>\n",
       "      <td>2124</td>\n",
       "      <td>0</td>\n",
       "      <td>19301</td>\n",
       "      <td>0</td>\n",
       "      <td>5925</td>\n",
       "      <td>2639</td>\n",
       "    </tr>\n",
       "    <tr>\n",
       "      <th>11</th>\n",
       "      <td>28675</td>\n",
       "      <td>0</td>\n",
       "      <td>240151</td>\n",
       "      <td>0</td>\n",
       "      <td>77209</td>\n",
       "      <td>33912</td>\n",
       "    </tr>\n",
       "    <tr>\n",
       "      <th>12</th>\n",
       "      <td>49043</td>\n",
       "      <td>0</td>\n",
       "      <td>373531</td>\n",
       "      <td>0</td>\n",
       "      <td>136237</td>\n",
       "      <td>58961</td>\n",
       "    </tr>\n",
       "    <tr>\n",
       "      <th>13</th>\n",
       "      <td>126995</td>\n",
       "      <td>0</td>\n",
       "      <td>998071</td>\n",
       "      <td>0</td>\n",
       "      <td>338609</td>\n",
       "      <td>149033</td>\n",
       "    </tr>\n",
       "    <tr>\n",
       "      <th>14</th>\n",
       "      <td>46057</td>\n",
       "      <td>0</td>\n",
       "      <td>381498</td>\n",
       "      <td>0</td>\n",
       "      <td>118771</td>\n",
       "      <td>53118</td>\n",
       "    </tr>\n",
       "    <tr>\n",
       "      <th>15</th>\n",
       "      <td>72721</td>\n",
       "      <td>0</td>\n",
       "      <td>563981</td>\n",
       "      <td>0</td>\n",
       "      <td>195602</td>\n",
       "      <td>86023</td>\n",
       "    </tr>\n",
       "    <tr>\n",
       "      <th>16</th>\n",
       "      <td>363356</td>\n",
       "      <td>0</td>\n",
       "      <td>2899119</td>\n",
       "      <td>0</td>\n",
       "      <td>972729</td>\n",
       "      <td>428476</td>\n",
       "    </tr>\n",
       "    <tr>\n",
       "      <th>17</th>\n",
       "      <td>47301</td>\n",
       "      <td>0</td>\n",
       "      <td>398093</td>\n",
       "      <td>0</td>\n",
       "      <td>128236</td>\n",
       "      <td>54783</td>\n",
       "    </tr>\n",
       "    <tr>\n",
       "      <th>18</th>\n",
       "      <td>30385</td>\n",
       "      <td>19381</td>\n",
       "      <td>228788</td>\n",
       "      <td>0</td>\n",
       "      <td>76986</td>\n",
       "      <td>18545</td>\n",
       "    </tr>\n",
       "    <tr>\n",
       "      <th>19</th>\n",
       "      <td>166147</td>\n",
       "      <td>0</td>\n",
       "      <td>1607266</td>\n",
       "      <td>0</td>\n",
       "      <td>449325</td>\n",
       "      <td>194121</td>\n",
       "    </tr>\n",
       "    <tr>\n",
       "      <th>20</th>\n",
       "      <td>70775</td>\n",
       "      <td>0</td>\n",
       "      <td>560987</td>\n",
       "      <td>0</td>\n",
       "      <td>187730</td>\n",
       "      <td>81770</td>\n",
       "    </tr>\n",
       "    <tr>\n",
       "      <th>21</th>\n",
       "      <td>4342</td>\n",
       "      <td>0</td>\n",
       "      <td>36244</td>\n",
       "      <td>0</td>\n",
       "      <td>11892</td>\n",
       "      <td>5659</td>\n",
       "    </tr>\n",
       "  </tbody>\n",
       "</table>\n",
       "</div>"
      ],
      "text/plain": [
       "profile        High income no children  New parent  Nuclear family  Pet owner  \\\n",
       "department_id                                                                   \n",
       "1                               148591           0         1189248          0   \n",
       "2                                 2443           0           19073          0   \n",
       "3                                81833           0          626064          0   \n",
       "4                               640879           0         5083031          0   \n",
       "5                                11729           0           80204          0   \n",
       "6                                18276           0          142729          0   \n",
       "7                               171446           0         1466117          0   \n",
       "8                                    0           0           50516      23919   \n",
       "9                                58966           0          457996          0   \n",
       "10                                2124           0           19301          0   \n",
       "11                               28675           0          240151          0   \n",
       "12                               49043           0          373531          0   \n",
       "13                              126995           0          998071          0   \n",
       "14                               46057           0          381498          0   \n",
       "15                               72721           0          563981          0   \n",
       "16                              363356           0         2899119          0   \n",
       "17                               47301           0          398093          0   \n",
       "18                               30385       19381          228788          0   \n",
       "19                              166147           0         1607266          0   \n",
       "20                               70775           0          560987          0   \n",
       "21                                4342           0           36244          0   \n",
       "\n",
       "profile        Wealthy retiree  Young professional  \n",
       "department_id                                       \n",
       "1                       399406              173323  \n",
       "2                         6312                2944  \n",
       "3                       211418               92755  \n",
       "4                      1719488              763238  \n",
       "5                        25756               12190  \n",
       "6                        48512               22076  \n",
       "7                       454001              194558  \n",
       "8                        18625                   0  \n",
       "9                       158994               70539  \n",
       "10                        5925                2639  \n",
       "11                       77209               33912  \n",
       "12                      136237               58961  \n",
       "13                      338609              149033  \n",
       "14                      118771               53118  \n",
       "15                      195602               86023  \n",
       "16                      972729              428476  \n",
       "17                      128236               54783  \n",
       "18                       76986               18545  \n",
       "19                      449325              194121  \n",
       "20                      187730               81770  \n",
       "21                       11892                5659  "
      ]
     },
     "execution_count": 21,
     "metadata": {},
     "output_type": "execute_result"
    }
   ],
   "source": [
    "department_profiles"
   ]
  },
  {
   "cell_type": "markdown",
   "id": "b6a7f25c",
   "metadata": {},
   "source": [
    "# 09. Comparison Charts"
   ]
  },
  {
   "cell_type": "code",
   "execution_count": 22,
   "id": "ad00cbda",
   "metadata": {},
   "outputs": [
    {
     "data": {
      "image/png": "[encoded data removed]",
      "text/plain": [
       "<Figure size 432x288 with 1 Axes>"
      ]
     },
     "metadata": {
      "needs_background": "light"
     },
     "output_type": "display_data"
    }
   ],
   "source": [
    "region_profile_bar = region_profiles.plot.bar(stacked = True, title = 'Customer Profiles by Region')"
   ]
  },
  {
   "cell_type": "code",
   "execution_count": 23,
   "id": "f383728b",
   "metadata": {},
   "outputs": [
    {
     "data": {
      "image/png": "[encoded data removed]",
      "text/plain": [
       "<Figure size 432x288 with 1 Axes>"
      ]
     },
     "metadata": {
      "needs_background": "light"
     },
     "output_type": "display_data"
    }
   ],
   "source": [
    "department_profile_bar = department_profiles.plot.bar(stacked = True, title = 'Customer Profiles by Department')"
   ]
  },
  {
   "cell_type": "code",
   "execution_count": null,
   "id": "eddadbcd",
   "metadata": {},
   "outputs": [],
   "source": [
    "# Exporting visualizations\n",
    "profile_bar.figure.savefig(os.path.join(path, '04 Analysis', 'Visualizations', 'profile_bar.png'),bbox_inches='tight')\n",
    "region_profile_bar.figure.savefig(os.path.join(path, '04 Analysis', 'Visualizations', 'region_profile_bar.png'),bbox_inches='tight')\n",
    "department_profile_bar.figure.savefig(os.path.join(path, '04 Analysis', 'Visualizations', 'department_profile_bar.png'),bbox_inches='tight')"
   ]
  },
  {
   "cell_type": "markdown",
   "id": "ac4214bb",
   "metadata": {},
   "source": [
    "# 10. Key Questions"
   ]
  },
  {
   "cell_type": "code",
   "execution_count": 25,
   "id": "ec196da1",
   "metadata": {},
   "outputs": [
    {
     "data": {
      "image/png": "[encoded data removed]",
      "text/plain": [
       "<Figure size 432x288 with 1 Axes>"
      ]
     },
     "metadata": {
      "needs_background": "light"
     },
     "output_type": "display_data"
    }
   ],
   "source": [
    "# Creating a bar chart of orders by price labels\n",
    "price_label_bar = ords_prods_custs_2['price_label'].value_counts().plot.bar()"
   ]
  },
  {
   "cell_type": "code",
   "execution_count": 26,
   "id": "1ec44a2f",
   "metadata": {},
   "outputs": [
    {
     "data": {
      "image/png": "[encoded data removed]",
      "text/plain": [
       "<Figure size 432x288 with 1 Axes>"
      ]
     },
     "metadata": {
      "needs_background": "light"
     },
     "output_type": "display_data"
    }
   ],
   "source": [
    "# Creating a bar chart of orders by department ID\n",
    "department_bar = ords_prods_custs_2['department_id'].value_counts().plot.bar()"
   ]
  },
  {
   "cell_type": "code",
   "execution_count": 27,
   "id": "6479de66",
   "metadata": {},
   "outputs": [],
   "source": [
    "# Finding mean of number of orders placed and days since prior order grouped by department ID \n",
    "department_frequency = ords_prods_custs_2.groupby('department_id').agg({'number_of_orders_placed':['mean'],'days_since_prior_order':['mean']})"
   ]
  },
  {
   "cell_type": "code",
   "execution_count": 29,
   "id": "839322aa",
   "metadata": {},
   "outputs": [
    {
     "data": {
      "text/html": [
       "<div>\n",
       "<style scoped>\n",
       "    .dataframe tbody tr th:only-of-type {\n",
       "        vertical-align: middle;\n",
       "    }\n",
       "\n",
       "    .dataframe tbody tr th {\n",
       "        vertical-align: top;\n",
       "    }\n",
       "\n",
       "    .dataframe thead tr th {\n",
       "        text-align: left;\n",
       "    }\n",
       "\n",
       "    .dataframe thead tr:last-of-type th {\n",
       "        text-align: right;\n",
       "    }\n",
       "</style>\n",
       "<table border=\"1\" class=\"dataframe\">\n",
       "  <thead>\n",
       "    <tr>\n",
       "      <th></th>\n",
       "      <th>number_of_orders_placed</th>\n",
       "      <th>days_since_prior_order</th>\n",
       "    </tr>\n",
       "    <tr>\n",
       "      <th></th>\n",
       "      <th>mean</th>\n",
       "      <th>mean</th>\n",
       "    </tr>\n",
       "    <tr>\n",
       "      <th>department_id</th>\n",
       "      <th></th>\n",
       "      <th></th>\n",
       "    </tr>\n",
       "  </thead>\n",
       "  <tbody>\n",
       "    <tr>\n",
       "      <th>1</th>\n",
       "      <td>16.160739</td>\n",
       "      <td>11.414062</td>\n",
       "    </tr>\n",
       "    <tr>\n",
       "      <th>2</th>\n",
       "      <td>18.096481</td>\n",
       "      <td>10.625000</td>\n",
       "    </tr>\n",
       "    <tr>\n",
       "      <th>3</th>\n",
       "      <td>17.856619</td>\n",
       "      <td>10.804688</td>\n",
       "    </tr>\n",
       "    <tr>\n",
       "      <th>4</th>\n",
       "      <td>18.495730</td>\n",
       "      <td>10.570312</td>\n",
       "    </tr>\n",
       "    <tr>\n",
       "      <th>5</th>\n",
       "      <td>16.034226</td>\n",
       "      <td>10.007812</td>\n",
       "    </tr>\n",
       "    <tr>\n",
       "      <th>6</th>\n",
       "      <td>17.174694</td>\n",
       "      <td>10.960938</td>\n",
       "    </tr>\n",
       "    <tr>\n",
       "      <th>7</th>\n",
       "      <td>17.901479</td>\n",
       "      <td>10.765625</td>\n",
       "    </tr>\n",
       "    <tr>\n",
       "      <th>8</th>\n",
       "      <td>15.995927</td>\n",
       "      <td>11.593750</td>\n",
       "    </tr>\n",
       "    <tr>\n",
       "      <th>9</th>\n",
       "      <td>16.633019</td>\n",
       "      <td>11.437500</td>\n",
       "    </tr>\n",
       "    <tr>\n",
       "      <th>10</th>\n",
       "      <td>20.797555</td>\n",
       "      <td>9.882812</td>\n",
       "    </tr>\n",
       "    <tr>\n",
       "      <th>11</th>\n",
       "      <td>16.933392</td>\n",
       "      <td>11.257812</td>\n",
       "    </tr>\n",
       "    <tr>\n",
       "      <th>12</th>\n",
       "      <td>16.576910</td>\n",
       "      <td>11.125000</td>\n",
       "    </tr>\n",
       "    <tr>\n",
       "      <th>13</th>\n",
       "      <td>17.328319</td>\n",
       "      <td>10.835938</td>\n",
       "    </tr>\n",
       "    <tr>\n",
       "      <th>14</th>\n",
       "      <td>17.469987</td>\n",
       "      <td>11.000000</td>\n",
       "    </tr>\n",
       "    <tr>\n",
       "      <th>15</th>\n",
       "      <td>16.933858</td>\n",
       "      <td>11.320312</td>\n",
       "    </tr>\n",
       "    <tr>\n",
       "      <th>16</th>\n",
       "      <td>18.324695</td>\n",
       "      <td>10.710938</td>\n",
       "    </tr>\n",
       "    <tr>\n",
       "      <th>17</th>\n",
       "      <td>16.438914</td>\n",
       "      <td>11.648438</td>\n",
       "    </tr>\n",
       "    <tr>\n",
       "      <th>18</th>\n",
       "      <td>19.867090</td>\n",
       "      <td>9.781250</td>\n",
       "    </tr>\n",
       "    <tr>\n",
       "      <th>19</th>\n",
       "      <td>17.830354</td>\n",
       "      <td>10.671875</td>\n",
       "    </tr>\n",
       "    <tr>\n",
       "      <th>20</th>\n",
       "      <td>17.144802</td>\n",
       "      <td>11.054688</td>\n",
       "    </tr>\n",
       "    <tr>\n",
       "      <th>21</th>\n",
       "      <td>24.281327</td>\n",
       "      <td>9.867188</td>\n",
       "    </tr>\n",
       "  </tbody>\n",
       "</table>\n",
       "</div>"
      ],
      "text/plain": [
       "              number_of_orders_placed days_since_prior_order\n",
       "                                 mean                   mean\n",
       "department_id                                               \n",
       "1                           16.160739              11.414062\n",
       "2                           18.096481              10.625000\n",
       "3                           17.856619              10.804688\n",
       "4                           18.495730              10.570312\n",
       "5                           16.034226              10.007812\n",
       "6                           17.174694              10.960938\n",
       "7                           17.901479              10.765625\n",
       "8                           15.995927              11.593750\n",
       "9                           16.633019              11.437500\n",
       "10                          20.797555               9.882812\n",
       "11                          16.933392              11.257812\n",
       "12                          16.576910              11.125000\n",
       "13                          17.328319              10.835938\n",
       "14                          17.469987              11.000000\n",
       "15                          16.933858              11.320312\n",
       "16                          18.324695              10.710938\n",
       "17                          16.438914              11.648438\n",
       "18                          19.867090               9.781250\n",
       "19                          17.830354              10.671875\n",
       "20                          17.144802              11.054688\n",
       "21                          24.281327               9.867188"
      ]
     },
     "execution_count": 29,
     "metadata": {},
     "output_type": "execute_result"
    }
   ],
   "source": [
    "department_frequency"
   ]
  },
  {
   "cell_type": "code",
   "execution_count": 28,
   "id": "1b269634",
   "metadata": {},
   "outputs": [],
   "source": [
    "# Creating cross tab to compare frequency flags by customer loyalty flag\n",
    "loyalty_frequency = pd.crosstab(ords_prods_custs_2['loyalty_flag'], ords_prods_custs_2['frequency_flag'], dropna = False)"
   ]
  },
  {
   "cell_type": "code",
   "execution_count": 30,
   "id": "0cfcd26f",
   "metadata": {},
   "outputs": [
    {
     "data": {
      "text/html": [
       "<div>\n",
       "<style scoped>\n",
       "    .dataframe tbody tr th:only-of-type {\n",
       "        vertical-align: middle;\n",
       "    }\n",
       "\n",
       "    .dataframe tbody tr th {\n",
       "        vertical-align: top;\n",
       "    }\n",
       "\n",
       "    .dataframe thead th {\n",
       "        text-align: right;\n",
       "    }\n",
       "</style>\n",
       "<table border=\"1\" class=\"dataframe\">\n",
       "  <thead>\n",
       "    <tr style=\"text-align: right;\">\n",
       "      <th>frequency_flag</th>\n",
       "      <th>Frequent customer</th>\n",
       "      <th>Non-frequent customer</th>\n",
       "      <th>Regular customer</th>\n",
       "    </tr>\n",
       "    <tr>\n",
       "      <th>loyalty_flag</th>\n",
       "      <th></th>\n",
       "      <th></th>\n",
       "      <th></th>\n",
       "    </tr>\n",
       "  </thead>\n",
       "  <tbody>\n",
       "    <tr>\n",
       "      <th>Loyal customer</th>\n",
       "      <td>10279960</td>\n",
       "      <td>0</td>\n",
       "      <td>4133</td>\n",
       "    </tr>\n",
       "    <tr>\n",
       "      <th>New customer</th>\n",
       "      <td>1293294</td>\n",
       "      <td>1983500</td>\n",
       "      <td>1526901</td>\n",
       "    </tr>\n",
       "    <tr>\n",
       "      <th>Regular customer</th>\n",
       "      <td>9631222</td>\n",
       "      <td>911475</td>\n",
       "      <td>5334079</td>\n",
       "    </tr>\n",
       "  </tbody>\n",
       "</table>\n",
       "</div>"
      ],
      "text/plain": [
       "frequency_flag    Frequent customer  Non-frequent customer  Regular customer\n",
       "loyalty_flag                                                                \n",
       "Loyal customer             10279960                      0              4133\n",
       "New customer                1293294                1983500           1526901\n",
       "Regular customer            9631222                 911475           5334079"
      ]
     },
     "execution_count": 30,
     "metadata": {},
     "output_type": "execute_result"
    }
   ],
   "source": [
    "loyalty_frequency"
   ]
  },
  {
   "cell_type": "code",
   "execution_count": 31,
   "id": "f45784fe",
   "metadata": {},
   "outputs": [
    {
     "data": {
      "image/png": "[encoded data removed]",
      "text/plain": [
       "<Figure size 432x288 with 1 Axes>"
      ]
     },
     "metadata": {
      "needs_background": "light"
     },
     "output_type": "display_data"
    }
   ],
   "source": [
    "# Creating stacked bar chart of loyalty_frequency cross tab\n",
    "loyalty_frequency_bar = loyalty_frequency.plot.bar(stacked = True, title = 'Order Frequency by Loyalty')"
   ]
  },
  {
   "cell_type": "code",
   "execution_count": 24,
   "id": "93209456",
   "metadata": {},
   "outputs": [],
   "source": [
    "# Creating cross tab of price labels by customer loyalty flag\n",
    "loyalty_price = pd.crosstab(ords_prods_custs_2['loyalty_flag'], ords_prods_custs_2['price_label'], dropna = False)"
   ]
  },
  {
   "cell_type": "code",
   "execution_count": 32,
   "id": "45af4103",
   "metadata": {},
   "outputs": [
    {
     "data": {
      "text/html": [
       "<div>\n",
       "<style scoped>\n",
       "    .dataframe tbody tr th:only-of-type {\n",
       "        vertical-align: middle;\n",
       "    }\n",
       "\n",
       "    .dataframe tbody tr th {\n",
       "        vertical-align: top;\n",
       "    }\n",
       "\n",
       "    .dataframe thead th {\n",
       "        text-align: right;\n",
       "    }\n",
       "</style>\n",
       "<table border=\"1\" class=\"dataframe\">\n",
       "  <thead>\n",
       "    <tr style=\"text-align: right;\">\n",
       "      <th>price_label</th>\n",
       "      <th>High range product</th>\n",
       "      <th>Low range product</th>\n",
       "      <th>Mid range product</th>\n",
       "    </tr>\n",
       "    <tr>\n",
       "      <th>loyalty_flag</th>\n",
       "      <th></th>\n",
       "      <th></th>\n",
       "      <th></th>\n",
       "    </tr>\n",
       "  </thead>\n",
       "  <tbody>\n",
       "    <tr>\n",
       "      <th>Loyal customer</th>\n",
       "      <td>119936</td>\n",
       "      <td>3214690</td>\n",
       "      <td>6949467</td>\n",
       "    </tr>\n",
       "    <tr>\n",
       "      <th>New customer</th>\n",
       "      <td>65927</td>\n",
       "      <td>1501288</td>\n",
       "      <td>3236480</td>\n",
       "    </tr>\n",
       "    <tr>\n",
       "      <th>Regular customer</th>\n",
       "      <td>212090</td>\n",
       "      <td>4958862</td>\n",
       "      <td>10705824</td>\n",
       "    </tr>\n",
       "  </tbody>\n",
       "</table>\n",
       "</div>"
      ],
      "text/plain": [
       "price_label       High range product  Low range product  Mid range product\n",
       "loyalty_flag                                                              \n",
       "Loyal customer                119936            3214690            6949467\n",
       "New customer                   65927            1501288            3236480\n",
       "Regular customer              212090            4958862           10705824"
      ]
     },
     "execution_count": 32,
     "metadata": {},
     "output_type": "execute_result"
    }
   ],
   "source": [
    "loyalty_price"
   ]
  },
  {
   "cell_type": "code",
   "execution_count": 33,
   "id": "84ef4a1b",
   "metadata": {},
   "outputs": [
    {
     "data": {
      "image/png": "[encoded data removed]",
      "text/plain": [
       "<Figure size 432x288 with 1 Axes>"
      ]
     },
     "metadata": {
      "needs_background": "light"
     },
     "output_type": "display_data"
    }
   ],
   "source": [
    "# Creating stacked bar chart of loyalty_price cross tab \n",
    "loyalty_price_bar = loyalty_price.plot.bar(stacked = True, title = 'Price by Loyalty')"
   ]
  },
  {
   "cell_type": "code",
   "execution_count": 34,
   "id": "375f2a1b",
   "metadata": {},
   "outputs": [],
   "source": [
    "# Creating cross tab of busiest days by customer loyalty flag\n",
    "loyalty_busy = pd.crosstab(ords_prods_custs_2['loyalty_flag'], ords_prods_custs_2['busiest_days'], dropna = False)"
   ]
  },
  {
   "cell_type": "code",
   "execution_count": 35,
   "id": "21aae959",
   "metadata": {},
   "outputs": [
    {
     "data": {
      "text/html": [
       "<div>\n",
       "<style scoped>\n",
       "    .dataframe tbody tr th:only-of-type {\n",
       "        vertical-align: middle;\n",
       "    }\n",
       "\n",
       "    .dataframe tbody tr th {\n",
       "        vertical-align: top;\n",
       "    }\n",
       "\n",
       "    .dataframe thead th {\n",
       "        text-align: right;\n",
       "    }\n",
       "</style>\n",
       "<table border=\"1\" class=\"dataframe\">\n",
       "  <thead>\n",
       "    <tr style=\"text-align: right;\">\n",
       "      <th>busiest_days</th>\n",
       "      <th>Busiest days</th>\n",
       "      <th>Least busiest days</th>\n",
       "      <th>Regularly busy</th>\n",
       "    </tr>\n",
       "    <tr>\n",
       "      <th>loyalty_flag</th>\n",
       "      <th></th>\n",
       "      <th></th>\n",
       "      <th></th>\n",
       "    </tr>\n",
       "  </thead>\n",
       "  <tbody>\n",
       "    <tr>\n",
       "      <th>Loyal customer</th>\n",
       "      <td>3598132</td>\n",
       "      <td>2558537</td>\n",
       "      <td>4127424</td>\n",
       "    </tr>\n",
       "    <tr>\n",
       "      <th>New customer</th>\n",
       "      <td>1803781</td>\n",
       "      <td>1096349</td>\n",
       "      <td>1903565</td>\n",
       "    </tr>\n",
       "    <tr>\n",
       "      <th>Regular customer</th>\n",
       "      <td>5918383</td>\n",
       "      <td>3639643</td>\n",
       "      <td>6318750</td>\n",
       "    </tr>\n",
       "  </tbody>\n",
       "</table>\n",
       "</div>"
      ],
      "text/plain": [
       "busiest_days      Busiest days  Least busiest days  Regularly busy\n",
       "loyalty_flag                                                      \n",
       "Loyal customer         3598132             2558537         4127424\n",
       "New customer           1803781             1096349         1903565\n",
       "Regular customer       5918383             3639643         6318750"
      ]
     },
     "execution_count": 35,
     "metadata": {},
     "output_type": "execute_result"
    }
   ],
   "source": [
    "loyalty_busy"
   ]
  },
  {
   "cell_type": "code",
   "execution_count": 36,
   "id": "d578077f",
   "metadata": {},
   "outputs": [
    {
     "data": {
      "image/png": "[encoded data removed]",
      "text/plain": [
       "<Figure size 432x288 with 1 Axes>"
      ]
     },
     "metadata": {
      "needs_background": "light"
     },
     "output_type": "display_data"
    }
   ],
   "source": [
    "# Creating stacked bar chart of loyalty_busy cross tab \n",
    "loyalty_busy_bar = loyalty_busy.plot.bar(stacked = True, title = 'Busiest Days by Loyalty')"
   ]
  },
  {
   "cell_type": "code",
   "execution_count": 4,
   "id": "c16e4374",
   "metadata": {},
   "outputs": [],
   "source": [
    "# Creating cross tab of frequency flag by region\n",
    "region_frequency = pd.crosstab(ords_prods_custs_2['region'], ords_prods_custs_2['frequency_flag'], dropna = False)"
   ]
  },
  {
   "cell_type": "code",
   "execution_count": 5,
   "id": "9a390bf2",
   "metadata": {},
   "outputs": [
    {
     "data": {
      "image/png": "[encoded data removed]",
      "text/plain": [
       "<Figure size 432x288 with 1 Axes>"
      ]
     },
     "metadata": {
      "needs_background": "light"
     },
     "output_type": "display_data"
    }
   ],
   "source": [
    "# Creating stacked bar chart of region_frequency cross tab\n",
    "region_frequency_bar = region_frequency.plot.bar(stacked = True, title = 'Order Frequency by Region')"
   ]
  },
  {
   "cell_type": "code",
   "execution_count": 6,
   "id": "eb422226",
   "metadata": {},
   "outputs": [],
   "source": [
    "# Creating cross tab of price label by region\n",
    "region_price = pd.crosstab(ords_prods_custs_2['region'], ords_prods_custs_2['price_label'], dropna = False)"
   ]
  },
  {
   "cell_type": "code",
   "execution_count": 7,
   "id": "0467a6e8",
   "metadata": {},
   "outputs": [
    {
     "data": {
      "image/png": "[encoded data removed]",
      "text/plain": [
       "<Figure size 432x288 with 1 Axes>"
      ]
     },
     "metadata": {
      "needs_background": "light"
     },
     "output_type": "display_data"
    }
   ],
   "source": [
    "# Creating stacked bar chart of region_price cross tab\n",
    "region_price_bar = region_price.plot.bar(stacked = True, title = 'Price by Region')"
   ]
  },
  {
   "cell_type": "code",
   "execution_count": 8,
   "id": "a8c4e8c8",
   "metadata": {},
   "outputs": [],
   "source": [
    "# Creating cross tab of busiest days by region\n",
    "region_busy = pd.crosstab(ords_prods_custs_2['region'], ords_prods_custs_2['busiest_days'], dropna = False)"
   ]
  },
  {
   "cell_type": "code",
   "execution_count": 9,
   "id": "d3c6135a",
   "metadata": {},
   "outputs": [
    {
     "data": {
      "image/png": "[encoded data removed]",
      "text/plain": [
       "<Figure size 432x288 with 1 Axes>"
      ]
     },
     "metadata": {
      "needs_background": "light"
     },
     "output_type": "display_data"
    }
   ],
   "source": [
    "# Creating stacked bar chart of region_busy cross tab\n",
    "region_busy_bar = region_busy.plot.bar(stacked = True, title = 'Busiest Days by Region')"
   ]
  },
  {
   "cell_type": "code",
   "execution_count": 5,
   "id": "4628426a",
   "metadata": {},
   "outputs": [
    {
     "name": "stderr",
     "output_type": "stream",
     "text": [
      "C:\\Users\\maple\\AppData\\Local\\Temp\\ipykernel_4832\\3642967140.py:21: SettingWithCopyWarning: \n",
      "A value is trying to be set on a copy of a slice from a DataFrame.\n",
      "Try using .loc[row_indexer,col_indexer] = value instead\n",
      "\n",
      "See the caveats in the documentation: https://pandas.pydata.org/pandas-docs/stable/user_guide/indexing.html#returning-a-view-versus-a-copy\n",
      "  ords_prods_custs_2['age_group'] = age_group\n"
     ]
    }
   ],
   "source": [
    "# Using a For-Loop to create age group profiles\n",
    "\n",
    "age_group = []\n",
    "\n",
    "for value in ords_prods_custs_2['age']:\n",
    "  if value >=18 and value <=24:\n",
    "    age_group.append('18-24')\n",
    "  elif value >=25 and value <=34:\n",
    "    age_group.append('25-34')\n",
    "  elif value >=35 and value <=44:  \n",
    "    age_group.append('35-44')\n",
    "  elif value >=45 and value <=54:  \n",
    "    age_group.append('45-54')\n",
    "  elif value >=55 and value <=64:  \n",
    "    age_group.append('55-64')\n",
    "  elif value >=65 and value <=74:  \n",
    "    age_group.append('65-74')\n",
    "  else:\n",
    "    age_group.append('75+')\n",
    "    \n",
    "ords_prods_custs_2['age_group'] = age_group"
   ]
  },
  {
   "cell_type": "code",
   "execution_count": 6,
   "id": "28f6791f",
   "metadata": {},
   "outputs": [],
   "source": [
    "age_family = pd.crosstab(ords_prods_custs_2['age_group'], ords_prods_custs_2['marital_status'], dropna = False)"
   ]
  },
  {
   "cell_type": "code",
   "execution_count": 7,
   "id": "d59af0b4",
   "metadata": {},
   "outputs": [
    {
     "data": {
      "text/html": [
       "<div>\n",
       "<style scoped>\n",
       "    .dataframe tbody tr th:only-of-type {\n",
       "        vertical-align: middle;\n",
       "    }\n",
       "\n",
       "    .dataframe tbody tr th {\n",
       "        vertical-align: top;\n",
       "    }\n",
       "\n",
       "    .dataframe thead th {\n",
       "        text-align: right;\n",
       "    }\n",
       "</style>\n",
       "<table border=\"1\" class=\"dataframe\">\n",
       "  <thead>\n",
       "    <tr style=\"text-align: right;\">\n",
       "      <th>marital_status</th>\n",
       "      <th>divorced/widowed</th>\n",
       "      <th>living with parents and siblings</th>\n",
       "      <th>married</th>\n",
       "      <th>single</th>\n",
       "    </tr>\n",
       "    <tr>\n",
       "      <th>age_group</th>\n",
       "      <th></th>\n",
       "      <th></th>\n",
       "      <th></th>\n",
       "      <th></th>\n",
       "    </tr>\n",
       "  </thead>\n",
       "  <tbody>\n",
       "    <tr>\n",
       "      <th>18-24</th>\n",
       "      <td>0</td>\n",
       "      <td>1481172</td>\n",
       "      <td>1108512</td>\n",
       "      <td>825510</td>\n",
       "    </tr>\n",
       "    <tr>\n",
       "      <th>25-34</th>\n",
       "      <td>0</td>\n",
       "      <td>0</td>\n",
       "      <td>3589053</td>\n",
       "      <td>1238048</td>\n",
       "    </tr>\n",
       "    <tr>\n",
       "      <th>35-44</th>\n",
       "      <td>0</td>\n",
       "      <td>0</td>\n",
       "      <td>3633820</td>\n",
       "      <td>1202854</td>\n",
       "    </tr>\n",
       "    <tr>\n",
       "      <th>45-54</th>\n",
       "      <td>0</td>\n",
       "      <td>0</td>\n",
       "      <td>3688017</td>\n",
       "      <td>1199547</td>\n",
       "    </tr>\n",
       "    <tr>\n",
       "      <th>55-64</th>\n",
       "      <td>623313</td>\n",
       "      <td>0</td>\n",
       "      <td>3550723</td>\n",
       "      <td>628451</td>\n",
       "    </tr>\n",
       "    <tr>\n",
       "      <th>65-74</th>\n",
       "      <td>1175123</td>\n",
       "      <td>0</td>\n",
       "      <td>3607792</td>\n",
       "      <td>0</td>\n",
       "    </tr>\n",
       "    <tr>\n",
       "      <th>75+</th>\n",
       "      <td>846835</td>\n",
       "      <td>0</td>\n",
       "      <td>2565794</td>\n",
       "      <td>0</td>\n",
       "    </tr>\n",
       "  </tbody>\n",
       "</table>\n",
       "</div>"
      ],
      "text/plain": [
       "marital_status  divorced/widowed  living with parents and siblings  married  \\\n",
       "age_group                                                                     \n",
       "18-24                          0                           1481172  1108512   \n",
       "25-34                          0                                 0  3589053   \n",
       "35-44                          0                                 0  3633820   \n",
       "45-54                          0                                 0  3688017   \n",
       "55-64                     623313                                 0  3550723   \n",
       "65-74                    1175123                                 0  3607792   \n",
       "75+                       846835                                 0  2565794   \n",
       "\n",
       "marital_status   single  \n",
       "age_group                \n",
       "18-24            825510  \n",
       "25-34           1238048  \n",
       "35-44           1202854  \n",
       "45-54           1199547  \n",
       "55-64            628451  \n",
       "65-74                 0  \n",
       "75+                   0  "
      ]
     },
     "execution_count": 7,
     "metadata": {},
     "output_type": "execute_result"
    }
   ],
   "source": [
    "age_family"
   ]
  },
  {
   "cell_type": "code",
   "execution_count": null,
   "id": "380fadf5",
   "metadata": {},
   "outputs": [],
   "source": [
    "age_family_bar = age_family.plot.bar(title = 'marital status by age group')"
   ]
  },
  {
   "cell_type": "code",
   "execution_count": 43,
   "id": "d17823a9",
   "metadata": {},
   "outputs": [],
   "source": [
    "# Creating cross tab of frequency flag by profile\n",
    "profile_frequency = pd.crosstab(ords_prods_custs_2['profile'], ords_prods_custs_2['frequency_flag'], dropna = False)"
   ]
  },
  {
   "cell_type": "code",
   "execution_count": 44,
   "id": "5152c284",
   "metadata": {},
   "outputs": [
    {
     "data": {
      "image/png": "[encoded data removed]",
      "text/plain": [
       "<Figure size 432x288 with 1 Axes>"
      ]
     },
     "metadata": {
      "needs_background": "light"
     },
     "output_type": "display_data"
    }
   ],
   "source": [
    "# Creating stacked bar chart of profile_frequency cross tab\n",
    "profile_frequency_bar = profile_frequency.plot.bar(stacked = True, title = 'Order Frequency by Profile')"
   ]
  },
  {
   "cell_type": "code",
   "execution_count": 45,
   "id": "e1880c14",
   "metadata": {},
   "outputs": [],
   "source": [
    "# Creating cross tab of price label by profile \n",
    "profile_price = pd.crosstab(ords_prods_custs_2['profile'], ords_prods_custs_2['price_label'], dropna = False)"
   ]
  },
  {
   "cell_type": "code",
   "execution_count": 46,
   "id": "cb6e1c01",
   "metadata": {},
   "outputs": [
    {
     "data": {
      "image/png": "[encoded data removed]",
      "text/plain": [
       "<Figure size 432x288 with 1 Axes>"
      ]
     },
     "metadata": {
      "needs_background": "light"
     },
     "output_type": "display_data"
    }
   ],
   "source": [
    "# Creating stacked bar chart of profile_price cross tab\n",
    "profile_price_bar = profile_price.plot.bar(stacked = True, title = 'Price by Profile')"
   ]
  },
  {
   "cell_type": "code",
   "execution_count": 47,
   "id": "5090cc5a",
   "metadata": {},
   "outputs": [],
   "source": [
    "# Creating cross tab of busiest days by profile \n",
    "profile_busy = pd.crosstab(ords_prods_custs_2['profile'], ords_prods_custs_2['busiest_days'], dropna = False)"
   ]
  },
  {
   "cell_type": "code",
   "execution_count": 48,
   "id": "4a8a377e",
   "metadata": {},
   "outputs": [
    {
     "data": {
      "image/png": "[encoded data removed]",
      "text/plain": [
       "<Figure size 432x288 with 1 Axes>"
      ]
     },
     "metadata": {
      "needs_background": "light"
     },
     "output_type": "display_data"
    }
   ],
   "source": [
    "# Creating stacked bar chart of profile_busy cross tab\n",
    "profile_busy_bar = profile_busy.plot.bar(stacked = True, title = 'Busiest Days by Profile')"
   ]
  },
  {
   "cell_type": "code",
   "execution_count": 49,
   "id": "675a7b29",
   "metadata": {},
   "outputs": [],
   "source": [
    "# Creating cross tab of spender flag by profile \n",
    "profile_spending = pd.crosstab(ords_prods_custs_2['profile'], ords_prods_custs_2['spender_flag'], dropna = False)"
   ]
  },
  {
   "cell_type": "code",
   "execution_count": 50,
   "id": "57377444",
   "metadata": {},
   "outputs": [
    {
     "data": {
      "image/png": "[encoded data removed]",
      "text/plain": [
       "<Figure size 432x288 with 1 Axes>"
      ]
     },
     "metadata": {
      "needs_background": "light"
     },
     "output_type": "display_data"
    }
   ],
   "source": [
    "# Creating stacked bar chart of profile_spending cross taba\n",
    "profile_spending_bar = profile_spending.plot.bar(stacked = True, title = 'Spending by Profile')"
   ]
  },
  {
   "cell_type": "code",
   "execution_count": 54,
   "id": "26aa5f32",
   "metadata": {},
   "outputs": [],
   "source": [
    "# Exporting visualizations\n",
    "price_label_bar.figure.savefig(os.path.join(path, '04 Analysis', 'Visualizations', 'price_label_bar.png'),bbox_inches='tight')\n",
    "department_frequency.to_csv(os.path.join(path, '04 Analysis', 'Visualizations', 'department_aggregates.csv'))\n",
    "department_bar.figure.savefig(os.path.join(path, '04 Analysis', 'Visualizations', 'department_bar.png'),bbox_inches='tight')\n",
    "loyalty_frequency_bar.figure.savefig(os.path.join(path, '04 Analysis', 'Visualizations', 'loyalty_frequency_bar.png'),bbox_inches='tight')\n",
    "loyalty_price_bar.figure.savefig(os.path.join(path, '04 Analysis', 'Visualizations', 'loyalty_price_bar.png'),bbox_inches='tight')\n",
    "loyalty_busy_bar.figure.savefig(os.path.join(path, '04 Analysis', 'Visualizations', 'loyalty_busy_bar.png'),bbox_inches='tight')\n",
    "profile_frequency_bar.figure.savefig(os.path.join(path, '04 Analysis', 'Visualizations', 'profile_frequency_bar.png'),bbox_inches='tight')\n",
    "profile_price_bar.figure.savefig(os.path.join(path, '04 Analysis', 'Visualizations', 'profile_price_bar.png'),bbox_inches='tight')\n",
    "profile_busy_bar.figure.savefig(os.path.join(path, '04 Analysis', 'Visualizations', 'profile_busy_bar.png'),bbox_inches='tight')\n",
    "profile_spending_bar.figure.savefig(os.path.join(path, '04 Analysis', 'Visualizations', 'profile_spending_bar.png'),bbox_inches='tight')\n",
    "age_family_bar.figure.savefig(os.path.join(path, '04 Analysis', 'Visualizations', 'age_family_bar.png'),bbox_inches='tight')\n",
    "region_frequency_bar.figure.savefig(os.path.join(path, '04 Analysis', 'Visualizations', 'region_frequency_bar.png'),bbox_inches='tight')\n",
    "region_price_bar.figure.savefig(os.path.join(path, '04 Analysis', 'Visualizations', 'region_price_bar.png'),bbox_inches='tight')\n",
    "region_busy_bar.figure.savefig(os.path.join(path, '04 Analysis', 'Visualizations', 'region_busy_bar.png'),bbox_inches='tight')\n"
   ]
  },
  {
   "cell_type": "code",
   "execution_count": null,
   "id": "ad04636b",
   "metadata": {},
   "outputs": [],
   "source": [
    "# Exporting final dataframe. Exporting in chunks due to memory issues. \n",
    "ords_prods_custs_2[:10000000].to_pickle(os.path.join(path,'02 Data','Prepared Data', 'orders_products_customers_final_1.pkl'))\n",
    "ords_prods_custs_2[10000000:20000000].to_pickle(os.path.join(path,'02 Data','Prepared Data', 'orders_products_customers_final_2.pkl'))\n",
    "ords_prods_custs_2[20000000:30964564].to_pickle(os.path.join(path,'02 Data','Prepared Data', 'orders_products_customers_final_3.pkl'))"
   ]
  }
 ],
 "metadata": {
  "kernelspec": {
   "display_name": "Python 3 (ipykernel)",
   "language": "python",
   "name": "python3"
  },
  "language_info": {
   "codemirror_mode": {
    "name": "ipython",
    "version": 3
   },
   "file_extension": ".py",
   "mimetype": "text/x-python",
   "name": "python",
   "nbconvert_exporter": "python",
   "pygments_lexer": "ipython3",
   "version": "3.9.12"
  }
 },
 "nbformat": 4,
 "nbformat_minor": 5
}
