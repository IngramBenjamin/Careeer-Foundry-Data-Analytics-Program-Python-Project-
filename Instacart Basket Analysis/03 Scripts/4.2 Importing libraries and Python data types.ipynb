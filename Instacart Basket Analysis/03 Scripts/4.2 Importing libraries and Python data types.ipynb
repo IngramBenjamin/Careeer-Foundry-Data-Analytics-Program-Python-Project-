{
 "cells": [
  {
   "cell_type": "markdown",
   "id": "ebf9fdd6",
   "metadata": {},
   "source": [
    "# Content List \n",
    "\n",
    "#### 01. Importing libraries \n",
    "#### 02. Data Types"
   ]
  },
  {
   "cell_type": "markdown",
   "id": "f8a3d11d",
   "metadata": {},
   "source": [
    "# 01. Importing libraries"
   ]
  },
  {
   "cell_type": "code",
   "execution_count": null,
   "id": "222f35a5",
   "metadata": {},
   "outputs": [],
   "source": [
    "# Import libraries"
   ]
  },
  {
   "cell_type": "code",
   "execution_count": 1,
   "id": "3432a516",
   "metadata": {},
   "outputs": [],
   "source": [
    "import pandas as pd \n",
    "import numpy as np\n",
    "import os"
   ]
  },
  {
   "cell_type": "markdown",
   "id": "c4674c44",
   "metadata": {},
   "source": [
    "# 02. Data Types"
   ]
  },
  {
   "cell_type": "code",
   "execution_count": 20,
   "id": "1b1d6b50",
   "metadata": {},
   "outputs": [
    {
     "data": {
      "text/plain": [
       "100"
      ]
     },
     "execution_count": 20,
     "metadata": {},
     "output_type": "execute_result"
    }
   ],
   "source": [
    "50+50"
   ]
  },
  {
   "cell_type": "code",
   "execution_count": 21,
   "id": "b10de98f",
   "metadata": {},
   "outputs": [
    {
     "data": {
      "text/plain": [
       "100"
      ]
     },
     "execution_count": 21,
     "metadata": {},
     "output_type": "execute_result"
    }
   ],
   "source": [
    "125-25"
   ]
  },
  {
   "cell_type": "code",
   "execution_count": 24,
   "id": "3f919224",
   "metadata": {},
   "outputs": [
    {
     "data": {
      "text/plain": [
       "100"
      ]
     },
     "execution_count": 24,
     "metadata": {},
     "output_type": "execute_result"
    }
   ],
   "source": [
    "200-100"
   ]
  },
  {
   "cell_type": "code",
   "execution_count": 26,
   "id": "e3068976",
   "metadata": {},
   "outputs": [
    {
     "data": {
      "text/plain": [
       "100"
      ]
     },
     "execution_count": 26,
     "metadata": {},
     "output_type": "execute_result"
    }
   ],
   "source": [
    "33+67"
   ]
  },
  {
   "cell_type": "code",
   "execution_count": null,
   "id": "cc9a69ea",
   "metadata": {},
   "outputs": [],
   "source": [
    "x=5.55"
   ]
  },
  {
   "cell_type": "code",
   "execution_count": null,
   "id": "51cbaddb",
   "metadata": {},
   "outputs": [],
   "source": [
    "y=6.66"
   ]
  },
  {
   "cell_type": "code",
   "execution_count": 28,
   "id": "8a3b4383",
   "metadata": {},
   "outputs": [
    {
     "data": {
      "text/plain": [
       "1.056710109193378"
      ]
     },
     "execution_count": 28,
     "metadata": {},
     "output_type": "execute_result"
    }
   ],
   "source": [
    "x/y"
   ]
  },
  {
   "cell_type": "code",
   "execution_count": 29,
   "id": "f6412d0b",
   "metadata": {},
   "outputs": [
    {
     "data": {
      "text/plain": [
       "'python'"
      ]
     },
     "execution_count": 29,
     "metadata": {},
     "output_type": "execute_result"
    }
   ],
   "source": [
    "'p'+'yth'+'on'"
   ]
  },
  {
   "cell_type": "code",
   "execution_count": 31,
   "id": "c7df0574",
   "metadata": {},
   "outputs": [
    {
     "data": {
      "text/plain": [
       "'today I learned some basic Python'"
      ]
     },
     "execution_count": 31,
     "metadata": {},
     "output_type": "execute_result"
    }
   ],
   "source": [
    "'today I learned '+'some basic Python'"
   ]
  },
  {
   "cell_type": "code",
   "execution_count": 32,
   "id": "c6fe13a3",
   "metadata": {},
   "outputs": [
    {
     "data": {
      "text/plain": [
       "'tomorrow I look forward to learning some more!'"
      ]
     },
     "execution_count": 32,
     "metadata": {},
     "output_type": "execute_result"
    }
   ],
   "source": [
    "'tomorrow I look forward '+'to learning some more!'"
   ]
  },
  {
   "cell_type": "code",
   "execution_count": 36,
   "id": "61899f5a",
   "metadata": {},
   "outputs": [],
   "source": [
    "Bonus_Task = 'Success'*100"
   ]
  },
  {
   "cell_type": "code",
   "execution_count": 37,
   "id": "269c22eb",
   "metadata": {},
   "outputs": [
    {
     "data": {
      "text/plain": [
       "'SuccessSuccessSuccessSuccessSuccessSuccessSuccessSuccessSuccessSuccessSuccessSuccessSuccessSuccessSuccessSuccessSuccessSuccessSuccessSuccessSuccessSuccessSuccessSuccessSuccessSuccessSuccessSuccessSuccessSuccessSuccessSuccessSuccessSuccessSuccessSuccessSuccessSuccessSuccessSuccessSuccessSuccessSuccessSuccessSuccessSuccessSuccessSuccessSuccessSuccessSuccessSuccessSuccessSuccessSuccessSuccessSuccessSuccessSuccessSuccessSuccessSuccessSuccessSuccessSuccessSuccessSuccessSuccessSuccessSuccessSuccessSuccessSuccessSuccessSuccessSuccessSuccessSuccessSuccessSuccessSuccessSuccessSuccessSuccessSuccessSuccessSuccessSuccessSuccessSuccessSuccessSuccessSuccessSuccessSuccessSuccessSuccessSuccessSuccessSuccess'"
      ]
     },
     "execution_count": 37,
     "metadata": {},
     "output_type": "execute_result"
    }
   ],
   "source": [
    "Bonus_Task"
   ]
  },
  {
   "cell_type": "code",
   "execution_count": null,
   "id": "711a844b",
   "metadata": {},
   "outputs": [],
   "source": []
  }
 ],
 "metadata": {
  "kernelspec": {
   "display_name": "Python 3 (ipykernel)",
   "language": "python",
   "name": "python3"
  },
  "language_info": {
   "codemirror_mode": {
    "name": "ipython",
    "version": 3
   },
   "file_extension": ".py",
   "mimetype": "text/x-python",
   "name": "python",
   "nbconvert_exporter": "python",
   "pygments_lexer": "ipython3",
   "version": "3.9.12"
  }
 },
 "nbformat": 4,
 "nbformat_minor": 5
}
